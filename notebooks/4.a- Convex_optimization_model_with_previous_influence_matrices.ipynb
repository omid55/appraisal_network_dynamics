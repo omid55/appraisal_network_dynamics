{
 "cells": [
  {
   "cell_type": "markdown",
   "metadata": {},
   "source": [
    "# ===========================================================\n",
    "# Solve the estimation problem with convex optimization model on the supervised dataset from the Jeopardy-like logs\n",
    "# ===========================================================\n",
    "\n",
    "Goals:\n",
    "1. Split the data into test and train\n",
    "2. Formulate the convex optimization model\n",
    "3. Compute train and test error"
   ]
  },
  {
   "cell_type": "markdown",
   "metadata": {},
   "source": [
    "#### Last update: 03 Dec 2019"
   ]
  },
  {
   "cell_type": "markdown",
   "metadata": {},
   "source": [
    "# Imports"
   ]
  },
  {
   "cell_type": "code",
   "execution_count": 199,
   "metadata": {},
   "outputs": [],
   "source": [
    "from __future__ import division, print_function, absolute_import, unicode_literals\n",
    "\n",
    "import cvxpy as cp\n",
    "import scipy as sp\n",
    "import pandas as pd\n",
    "import numpy as np\n",
    "import tensorflow as tf\n",
    "import matplotlib.pyplot as plt\n",
    "import seaborn as sns\n",
    "from collections import defaultdict\n",
    "import sys\n",
    "from sklearn.model_selection import KFold\n",
    "from sklearn.model_selection import train_test_split\n",
    "\n",
    "sys.path.insert(0, '../src/')\n",
    "%matplotlib inline\n",
    "\n",
    "import utils\n",
    "from mytimer import Timer"
   ]
  },
  {
   "cell_type": "code",
   "execution_count": 200,
   "metadata": {},
   "outputs": [],
   "source": [
    "import imp\n",
    "\n",
    "def reload():\n",
    "    imp.reload(utils)"
   ]
  },
  {
   "cell_type": "markdown",
   "metadata": {},
   "source": [
    "# Parameters"
   ]
  },
  {
   "cell_type": "code",
   "execution_count": 201,
   "metadata": {},
   "outputs": [],
   "source": [
    "data_fpath = '/home/omid/Datasets/Jeopardy/supervised_data_with_only_first_influence.pk'\n",
    "# data_fpath = '/home/omid/Datasets/Jeopardy/supervised_data.pk'\n",
    "\n",
    "# lambdaa = 1\n",
    "test_fraction = 0.2\n",
    "runs = 30"
   ]
  },
  {
   "cell_type": "markdown",
   "metadata": {},
   "source": [
    "# Helper functions"
   ]
  },
  {
   "cell_type": "code",
   "execution_count": 202,
   "metadata": {},
   "outputs": [],
   "source": [
    "def compute_matrix_err(true_matrix: np.matrix, pred_matrix: np.matrix, type_str: str = 'corr') -> float:\n",
    "    if type_str == 'frob_norm':\n",
    "        frob_norm_of_difference = np.linalg.norm(true_matrix - pred_matrix)\n",
    "        err = frob_norm_of_difference / np.linalg.norm(true_matrix)\n",
    "        return err\n",
    "    elif type_str == 'corr':\n",
    "#         (r, p) = sp.stats.spearmanr(np.array(true_matrix.flatten())[0], np.array(pred_matrix.flatten())[0])\n",
    "        (r, p) = sp.stats.pearsonr(np.array(true_matrix.flatten())[0], np.array(pred_matrix.flatten())[0])\n",
    "        if p > 0.05:\n",
    "            r = 0\n",
    "        return r\n",
    "    else:\n",
    "        raise ValueError('Wrong type_str was given.')"
   ]
  },
  {
   "cell_type": "markdown",
   "metadata": {},
   "source": [
    "# Loading the data"
   ]
  },
  {
   "cell_type": "code",
   "execution_count": 203,
   "metadata": {},
   "outputs": [
    {
     "name": "stdout",
     "output_type": "stream",
     "text": [
      "264\n"
     ]
    }
   ],
   "source": [
    "data = utils.load_it(data_fpath)\n",
    "print(len(data['X']))"
   ]
  },
  {
   "cell_type": "code",
   "execution_count": 204,
   "metadata": {},
   "outputs": [],
   "source": [
    "mats = []\n",
    "for i in range(len(data['y'])):\n",
    "    mats.append(data['y'][i]['influence_matrix'] / 100)"
   ]
  },
  {
   "cell_type": "code",
   "execution_count": 205,
   "metadata": {},
   "outputs": [
    {
     "data": {
      "text/plain": [
       "array([[0.00257846, 0.00250132, 0.00259172, 0.00232849],\n",
       "       [0.00219973, 0.00324443, 0.00221875, 0.00233709],\n",
       "       [0.002105  , 0.00250398, 0.00310839, 0.00228263],\n",
       "       [0.00251803, 0.00238397, 0.00242936, 0.00266864]])"
      ]
     },
     "execution_count": 205,
     "metadata": {},
     "output_type": "execute_result"
    }
   ],
   "source": [
    "np.mean(mats, axis=0)"
   ]
  },
  {
   "cell_type": "code",
   "execution_count": 143,
   "metadata": {},
   "outputs": [
    {
     "data": {
      "text/plain": [
       "array([[0.00116775, 0.000813  , 0.00089624, 0.00075369],\n",
       "       [0.00089293, 0.00165879, 0.00083356, 0.00109168],\n",
       "       [0.00089638, 0.00122138, 0.00168656, 0.00091934],\n",
       "       [0.00095975, 0.00065094, 0.0005916 , 0.00087487]])"
      ]
     },
     "execution_count": 143,
     "metadata": {},
     "output_type": "execute_result"
    }
   ],
   "source": [
    "np.std(mats, axis=0)"
   ]
  },
  {
   "cell_type": "markdown",
   "metadata": {},
   "source": [
    "# Formulating the convex optimization problem"
   ]
  },
  {
   "cell_type": "markdown",
   "metadata": {},
   "source": [
    "## With only average of previous influence matrices:"
   ]
  },
  {
   "cell_type": "code",
   "execution_count": 29,
   "metadata": {},
   "outputs": [
    {
     "name": "stdout",
     "output_type": "stream",
     "text": [
      "Run 0 ...\n",
      "It was optimal and result was 397.5254263045621\n",
      "It took 13.94 seconds.\n",
      "Run 1 ...\n",
      "It was optimal and result was 411.98152392976135\n",
      "It took 13.54 seconds.\n",
      "Run 2 ...\n",
      "It was optimal and result was 389.7733352088417\n",
      "It took 13.62 seconds.\n",
      "Run 3 ...\n",
      "It was optimal and result was 398.5454805407402\n",
      "It took 13.62 seconds.\n",
      "Run 4 ...\n",
      "It was optimal and result was 412.1563506715795\n",
      "It took 13.29 seconds.\n",
      "Run 5 ...\n",
      "It was optimal and result was 426.3059417990221\n",
      "It took 13.93 seconds.\n",
      "Run 6 ...\n",
      "It was optimal and result was 417.1745043630591\n",
      "It took 13.21 seconds.\n",
      "Run 7 ...\n",
      "It was optimal and result was 443.12586409873853\n",
      "It took 13.46 seconds.\n",
      "Run 8 ...\n",
      "It was optimal and result was 399.0217672440875\n",
      "It took 13.27 seconds.\n",
      "Run 9 ...\n",
      "It was optimal and result was 415.22311511799785\n",
      "It took 13.69 seconds.\n",
      "Run 10 ...\n",
      "It was optimal and result was 434.5889995937971\n",
      "It took 14.05 seconds.\n",
      "Run 11 ...\n",
      "It was optimal and result was 401.34036786394074\n",
      "It took 13.65 seconds.\n",
      "Run 12 ...\n",
      "It was optimal and result was 404.2064469735923\n",
      "It took 13.75 seconds.\n",
      "Run 13 ...\n",
      "It was optimal and result was 409.2751238847479\n",
      "It took 13.45 seconds.\n",
      "Run 14 ...\n",
      "It was optimal and result was 419.9725293071748\n",
      "It took 13.70 seconds.\n",
      "Run 15 ...\n",
      "It was optimal and result was 378.52985614704505\n",
      "It took 13.61 seconds.\n",
      "Run 16 ...\n",
      "It was optimal and result was 430.0589914936046\n",
      "It took 13.41 seconds.\n",
      "Run 17 ...\n",
      "It was optimal and result was 400.29374347187695\n",
      "It took 13.51 seconds.\n",
      "Run 18 ...\n",
      "It was optimal and result was 412.4866752054982\n",
      "It took 13.71 seconds.\n",
      "Run 19 ...\n",
      "It was optimal and result was 425.0831447428436\n",
      "It took 13.28 seconds.\n",
      "Run 20 ...\n",
      "It was optimal and result was 410.3242962672489\n",
      "It took 13.24 seconds.\n",
      "Run 21 ...\n",
      "It was optimal and result was 368.30843098686785\n",
      "It took 13.56 seconds.\n",
      "Run 22 ...\n",
      "It was optimal and result was 408.2321630082672\n",
      "It took 13.25 seconds.\n",
      "Run 23 ...\n",
      "It was optimal and result was 384.3423695533902\n",
      "It took 13.22 seconds.\n",
      "Run 24 ...\n",
      "It was optimal and result was 397.6925065748985\n",
      "It took 13.55 seconds.\n",
      "Run 25 ...\n",
      "It was optimal and result was 386.6146983958464\n",
      "It took 13.24 seconds.\n",
      "Run 26 ...\n",
      "It was optimal and result was 422.31928987768606\n",
      "It took 13.48 seconds.\n",
      "Run 27 ...\n",
      "It was optimal and result was 361.0854170845008\n",
      "It took 13.18 seconds.\n",
      "Run 28 ...\n",
      "It was optimal and result was 395.3558573998173\n",
      "It took 13.26 seconds.\n",
      "Run 29 ...\n",
      "It was optimal and result was 377.7247389516168\n",
      "It took 13.36 seconds.\n"
     ]
    }
   ],
   "source": [
    "lambdaa = 0.1\n",
    "\n",
    "\n",
    "model_errs = []\n",
    "random_errs = []\n",
    "uniform_errs = []\n",
    "\n",
    "for run in range(runs):\n",
    "    print('Run', run, '...')\n",
    "    X_train, X_test, y_train, y_test = train_test_split(\n",
    "        data['X'], data['y'], test_size=test_fraction)\n",
    "    \n",
    "    X_train, y_train = utils.replicate_networks_in_train_dataset_with_reordering(\n",
    "        X_train, y_train)\n",
    "    \n",
    "    # Solving the optimization problem.\n",
    "    with Timer():\n",
    "        W1 = cp.Variable(4, 4)\n",
    "        B = cp.Variable(4, 4)\n",
    "\n",
    "        constraints = []\n",
    "        losses = 0\n",
    "        for index in range(len(X_train)):\n",
    "            element = X_train[index]\n",
    "            influence_matrix = y_train[index]['influence_matrix']\n",
    "            A1 = element['average_of_previous_influence_matrices']\n",
    "            pred_influence_matrix = A1 * W1 + B\n",
    "            loss = pred_influence_matrix - influence_matrix\n",
    "            losses += cp.sum_squares(loss)\n",
    "            constraints += [pred_influence_matrix >= 0]\n",
    "            constraints += [cp.sum_entries(pred_influence_matrix, axis=1) == 1]\n",
    "\n",
    "        regluarization = cp.norm1(W1) + cp.norm1(B)\n",
    "        objective = cp.Minimize(losses + lambdaa * regluarization)\n",
    "        prob = cp.Problem(objective, constraints)\n",
    "        result = prob.solve(solver=cp.MOSEK)\n",
    "        print('It was {} and result was {}'.format(prob.status, result))\n",
    "\n",
    "    model_err = 0\n",
    "    random_err = 0\n",
    "    uniform_err = 0\n",
    "    for index in range(len(X_test)):\n",
    "        element = X_test[index]\n",
    "        influence_matrix = y_test[index]['influence_matrix']\n",
    "\n",
    "        # Random model prediction:\n",
    "        pred_random_influence_matrix = np.matrix(utils.make_matrix_row_stochastic(\n",
    "            np.random.rand(4, 4)))\n",
    "        random_err += compute_matrix_err(\n",
    "            influence_matrix, pred_random_influence_matrix)\n",
    "\n",
    "        # Uniform prediction:\n",
    "        pred_uniform_influence_matrix = np.matrix(np.ones((4, 4)) * 0.25)\n",
    "        uniform_err += compute_matrix_err(\n",
    "            influence_matrix, pred_uniform_influence_matrix)\n",
    "\n",
    "        # Optimization model prediction:\n",
    "        A1 = element['average_of_previous_influence_matrices']\n",
    "        predicted_influence_matrix = A1 * W1.value + B.value\n",
    "        model_err += compute_matrix_err(\n",
    "            influence_matrix, predicted_influence_matrix)\n",
    "\n",
    "    model_err /= len(X_test)\n",
    "    random_err /= len(X_test)\n",
    "    uniform_err /= len(X_test)\n",
    "\n",
    "    model_errs.append(model_err)\n",
    "    random_errs.append(random_err)\n",
    "    uniform_errs.append(uniform_err)"
   ]
  },
  {
   "cell_type": "code",
   "execution_count": 33,
   "metadata": {},
   "outputs": [
    {
     "data": {
      "image/png": "[encoded data removed]",
      "text/plain": [
       "<matplotlib.figure.Figure at 0x7f394032f7f0>"
      ]
     },
     "metadata": {
      "needs_background": "light"
     },
     "output_type": "display_data"
    }
   ],
   "source": [
    "sns.heatmap(W1.value);"
   ]
  },
  {
   "cell_type": "code",
   "execution_count": 34,
   "metadata": {},
   "outputs": [
    {
     "data": {
      "image/png": "[encoded data removed]",
      "text/plain": [
       "<matplotlib.figure.Figure at 0x7f395ee643c8>"
      ]
     },
     "metadata": {
      "needs_background": "light"
     },
     "output_type": "display_data"
    }
   ],
   "source": [
    "sns.heatmap(B.value);"
   ]
  },
  {
   "cell_type": "code",
   "execution_count": 32,
   "metadata": {},
   "outputs": [
    {
     "name": "stdout",
     "output_type": "stream",
     "text": [
      "random: 0.6257138866867928 +- 0.01604257548685887\n",
      "uniform: 0.3371604198790437 +- 0.01908804176115327\n",
      "model: 0.23749912395791864 +- 0.015044850361760172\n"
     ]
    },
    {
     "data": {
      "image/png": "[encoded data removed]",
      "text/plain": [
       "<matplotlib.figure.Figure at 0x7f3940ada8d0>"
      ]
     },
     "metadata": {
      "needs_background": "light"
     },
     "output_type": "display_data"
    }
   ],
   "source": [
    "plt.hist(model_errs)\n",
    "plt.hist(random_errs)\n",
    "plt.hist(uniform_errs)\n",
    "plt.legend(['model', 'random', 'uniform']);\n",
    "\n",
    "print('random: {} +- {}'.format(np.mean(random_errs), np.std(random_errs)))\n",
    "print('uniform: {} +- {}'.format(np.mean(uniform_errs), np.std(uniform_errs)))\n",
    "print('model: {} +- {}'.format(np.mean(model_errs), np.std(model_errs)));"
   ]
  },
  {
   "cell_type": "markdown",
   "metadata": {},
   "source": [
    "### Logistic function with only first influence matrix "
   ]
  },
  {
   "cell_type": "code",
   "execution_count": 80,
   "metadata": {},
   "outputs": [
    {
     "name": "stdout",
     "output_type": "stream",
     "text": [
      "Run 0 ...\n",
      "It took 3.28 seconds.\n"
     ]
    },
    {
     "ename": "SolverError",
     "evalue": "The solver MOSEK cannot solve the problem because it cannot solve exponential cone problems.",
     "output_type": "error",
     "traceback": [
      "\u001b[0;31m---------------------------------------------------------------------------\u001b[0m",
      "\u001b[0;31mSolverError\u001b[0m                               Traceback (most recent call last)",
      "\u001b[0;32m<ipython-input-80-f401f1f3af5e>\u001b[0m in \u001b[0;36m<module>\u001b[0;34m()\u001b[0m\n\u001b[1;32m     40\u001b[0m         \u001b[0mobjective\u001b[0m \u001b[0;34m=\u001b[0m \u001b[0mcp\u001b[0m\u001b[0;34m.\u001b[0m\u001b[0mMinimize\u001b[0m\u001b[0;34m(\u001b[0m\u001b[0mlosses\u001b[0m \u001b[0;34m+\u001b[0m \u001b[0mlambdaa\u001b[0m \u001b[0;34m*\u001b[0m \u001b[0mregluarization\u001b[0m\u001b[0;34m)\u001b[0m\u001b[0;34m\u001b[0m\u001b[0m\n\u001b[1;32m     41\u001b[0m         \u001b[0mprob\u001b[0m \u001b[0;34m=\u001b[0m \u001b[0mcp\u001b[0m\u001b[0;34m.\u001b[0m\u001b[0mProblem\u001b[0m\u001b[0;34m(\u001b[0m\u001b[0mobjective\u001b[0m\u001b[0;34m)\u001b[0m  \u001b[0;31m#, constraints)\u001b[0m\u001b[0;34m\u001b[0m\u001b[0m\n\u001b[0;32m---> 42\u001b[0;31m         \u001b[0mresult\u001b[0m \u001b[0;34m=\u001b[0m \u001b[0mprob\u001b[0m\u001b[0;34m.\u001b[0m\u001b[0msolve\u001b[0m\u001b[0;34m(\u001b[0m\u001b[0mcp\u001b[0m\u001b[0;34m.\u001b[0m\u001b[0mMOSEK\u001b[0m\u001b[0;34m)\u001b[0m\u001b[0;34m\u001b[0m\u001b[0m\n\u001b[0m\u001b[1;32m     43\u001b[0m         \u001b[0mprint\u001b[0m\u001b[0;34m(\u001b[0m\u001b[0;34m'It was {} and result was {}'\u001b[0m\u001b[0;34m.\u001b[0m\u001b[0mformat\u001b[0m\u001b[0;34m(\u001b[0m\u001b[0mprob\u001b[0m\u001b[0;34m.\u001b[0m\u001b[0mstatus\u001b[0m\u001b[0;34m,\u001b[0m \u001b[0mresult\u001b[0m\u001b[0;34m)\u001b[0m\u001b[0;34m)\u001b[0m\u001b[0;34m\u001b[0m\u001b[0m\n\u001b[1;32m     44\u001b[0m \u001b[0;34m\u001b[0m\u001b[0m\n",
      "\u001b[0;32m/home/omid/.local/lib/python3.5/site-packages/cvxpy/problems/problem.py\u001b[0m in \u001b[0;36msolve\u001b[0;34m(self, *args, **kwargs)\u001b[0m\n\u001b[1;32m    207\u001b[0m             \u001b[0;32mreturn\u001b[0m \u001b[0mfunc\u001b[0m\u001b[0;34m(\u001b[0m\u001b[0mself\u001b[0m\u001b[0;34m,\u001b[0m \u001b[0;34m*\u001b[0m\u001b[0margs\u001b[0m\u001b[0;34m,\u001b[0m \u001b[0;34m**\u001b[0m\u001b[0mkwargs\u001b[0m\u001b[0;34m)\u001b[0m\u001b[0;34m\u001b[0m\u001b[0m\n\u001b[1;32m    208\u001b[0m         \u001b[0;32melse\u001b[0m\u001b[0;34m:\u001b[0m\u001b[0;34m\u001b[0m\u001b[0m\n\u001b[0;32m--> 209\u001b[0;31m             \u001b[0;32mreturn\u001b[0m \u001b[0mself\u001b[0m\u001b[0;34m.\u001b[0m\u001b[0m_solve\u001b[0m\u001b[0;34m(\u001b[0m\u001b[0;34m*\u001b[0m\u001b[0margs\u001b[0m\u001b[0;34m,\u001b[0m \u001b[0;34m**\u001b[0m\u001b[0mkwargs\u001b[0m\u001b[0;34m)\u001b[0m\u001b[0;34m\u001b[0m\u001b[0m\n\u001b[0m\u001b[1;32m    210\u001b[0m \u001b[0;34m\u001b[0m\u001b[0m\n\u001b[1;32m    211\u001b[0m     \u001b[0;34m@\u001b[0m\u001b[0mclassmethod\u001b[0m\u001b[0;34m\u001b[0m\u001b[0m\n",
      "\u001b[0;32m/home/omid/.local/lib/python3.5/site-packages/cvxpy/problems/problem.py\u001b[0m in \u001b[0;36m_solve\u001b[0;34m(self, solver, ignore_dcp, warm_start, verbose, parallel, **kwargs)\u001b[0m\n\u001b[1;32m    319\u001b[0m         \u001b[0;32melif\u001b[0m \u001b[0msolver\u001b[0m \u001b[0;32min\u001b[0m \u001b[0mSOLVERS\u001b[0m\u001b[0;34m:\u001b[0m\u001b[0;34m\u001b[0m\u001b[0m\n\u001b[1;32m    320\u001b[0m             \u001b[0msolver\u001b[0m \u001b[0;34m=\u001b[0m \u001b[0mSOLVERS\u001b[0m\u001b[0;34m[\u001b[0m\u001b[0msolver\u001b[0m\u001b[0;34m]\u001b[0m\u001b[0;34m\u001b[0m\u001b[0m\n\u001b[0;32m--> 321\u001b[0;31m             \u001b[0msolver\u001b[0m\u001b[0;34m.\u001b[0m\u001b[0mvalidate_solver\u001b[0m\u001b[0;34m(\u001b[0m\u001b[0mconstraints\u001b[0m\u001b[0;34m)\u001b[0m\u001b[0;34m\u001b[0m\u001b[0m\n\u001b[0m\u001b[1;32m    322\u001b[0m         \u001b[0;32melse\u001b[0m\u001b[0;34m:\u001b[0m\u001b[0;34m\u001b[0m\u001b[0m\n\u001b[1;32m    323\u001b[0m             \u001b[0;32mraise\u001b[0m \u001b[0mSolverError\u001b[0m\u001b[0;34m(\u001b[0m\u001b[0;34m\"Unknown solver.\"\u001b[0m\u001b[0;34m)\u001b[0m\u001b[0;34m\u001b[0m\u001b[0m\n",
      "\u001b[0;32m/home/omid/.local/lib/python3.5/site-packages/cvxpy/problems/solvers/solver.py\u001b[0m in \u001b[0;36mvalidate_solver\u001b[0;34m(self, constraints)\u001b[0m\n\u001b[1;32m    131\u001b[0m             \u001b[0mself\u001b[0m\u001b[0;34m.\u001b[0m\u001b[0m_reject_problem\u001b[0m\u001b[0;34m(\u001b[0m\u001b[0;34m\"it cannot solve semidefinite problems\"\u001b[0m\u001b[0;34m)\u001b[0m\u001b[0;34m\u001b[0m\u001b[0m\n\u001b[1;32m    132\u001b[0m         \u001b[0;32melif\u001b[0m \u001b[0mconstr_map\u001b[0m\u001b[0;34m[\u001b[0m\u001b[0ms\u001b[0m\u001b[0;34m.\u001b[0m\u001b[0mEXP\u001b[0m\u001b[0;34m]\u001b[0m \u001b[0;32mand\u001b[0m \u001b[0;32mnot\u001b[0m \u001b[0mself\u001b[0m\u001b[0;34m.\u001b[0m\u001b[0mEXP_CAPABLE\u001b[0m\u001b[0;34m:\u001b[0m\u001b[0;34m\u001b[0m\u001b[0m\n\u001b[0;32m--> 133\u001b[0;31m             \u001b[0mself\u001b[0m\u001b[0;34m.\u001b[0m\u001b[0m_reject_problem\u001b[0m\u001b[0;34m(\u001b[0m\u001b[0;34m\"it cannot solve exponential cone problems\"\u001b[0m\u001b[0;34m)\u001b[0m\u001b[0;34m\u001b[0m\u001b[0m\n\u001b[0m\u001b[1;32m    134\u001b[0m         \u001b[0;32melif\u001b[0m \u001b[0mconstr_map\u001b[0m\u001b[0;34m[\u001b[0m\u001b[0ms\u001b[0m\u001b[0;34m.\u001b[0m\u001b[0mSOC\u001b[0m\u001b[0;34m]\u001b[0m \u001b[0;32mand\u001b[0m \u001b[0;32mnot\u001b[0m \u001b[0mself\u001b[0m\u001b[0;34m.\u001b[0m\u001b[0mSOCP_CAPABLE\u001b[0m\u001b[0;34m:\u001b[0m\u001b[0;34m\u001b[0m\u001b[0m\n\u001b[1;32m    135\u001b[0m             \u001b[0mself\u001b[0m\u001b[0;34m.\u001b[0m\u001b[0m_reject_problem\u001b[0m\u001b[0;34m(\u001b[0m\u001b[0;34m\"it cannot solve second-order cone problems\"\u001b[0m\u001b[0;34m)\u001b[0m\u001b[0;34m\u001b[0m\u001b[0m\n",
      "\u001b[0;32m/home/omid/.local/lib/python3.5/site-packages/cvxpy/problems/solvers/solver.py\u001b[0m in \u001b[0;36m_reject_problem\u001b[0;34m(self, reason)\u001b[0m\n\u001b[1;32m    154\u001b[0m             \u001b[0mself\u001b[0m\u001b[0;34m.\u001b[0m\u001b[0mname\u001b[0m\u001b[0;34m(\u001b[0m\u001b[0;34m)\u001b[0m\u001b[0;34m,\u001b[0m \u001b[0mreason\u001b[0m\u001b[0;34m\u001b[0m\u001b[0m\n\u001b[1;32m    155\u001b[0m         )\n\u001b[0;32m--> 156\u001b[0;31m         \u001b[0;32mraise\u001b[0m \u001b[0mSolverError\u001b[0m\u001b[0;34m(\u001b[0m\u001b[0mmessage\u001b[0m\u001b[0;34m)\u001b[0m\u001b[0;34m\u001b[0m\u001b[0m\n\u001b[0m\u001b[1;32m    157\u001b[0m \u001b[0;34m\u001b[0m\u001b[0m\n\u001b[1;32m    158\u001b[0m     \u001b[0;32mdef\u001b[0m \u001b[0mvalidate_cache\u001b[0m\u001b[0;34m(\u001b[0m\u001b[0mself\u001b[0m\u001b[0;34m,\u001b[0m \u001b[0mobjective\u001b[0m\u001b[0;34m,\u001b[0m \u001b[0mconstraints\u001b[0m\u001b[0;34m,\u001b[0m \u001b[0mcached_data\u001b[0m\u001b[0;34m)\u001b[0m\u001b[0;34m:\u001b[0m\u001b[0;34m\u001b[0m\u001b[0m\n",
      "\u001b[0;31mSolverError\u001b[0m: The solver MOSEK cannot solve the problem because it cannot solve exponential cone problems."
     ]
    }
   ],
   "source": [
    "lambdaa = 0.1\n",
    "\n",
    "\n",
    "model_errs = []\n",
    "random_errs = []\n",
    "uniform_errs = []\n",
    "\n",
    "for run in range(2):\n",
    "    print('Run', run, '...')\n",
    "    X_train, X_test, y_train, y_test = train_test_split(\n",
    "        data['X'], data['y'], test_size=test_fraction)\n",
    "    \n",
    "    X_train, y_train = utils.replicate_networks_in_train_dataset_with_reordering(\n",
    "        X_train, y_train)\n",
    "    \n",
    "    # Solving the optimization problem.\n",
    "    with Timer():\n",
    "        W1 = cp.Variable(4, 4)\n",
    "        B = cp.Variable(4, 4)\n",
    "\n",
    "#         constraints = []\n",
    "        losses = 0\n",
    "        for index in range(len(X_train)):\n",
    "            element = X_train[index]\n",
    "            influence_matrix = y_train[index]['influence_matrix']\n",
    "            A1 = element['first_influence_matrices']\n",
    "\n",
    "#             losses += cp.sum_entries( cp.logistic(-influence_matrix * (A1 * W1 + B)) )\n",
    "\n",
    "            pred_influence_matrix = A1 * W1 + B\n",
    "            losses += cp.sum_entries( cp.kl_div(influence_matrix, pred_influence_matrix) )\n",
    "\n",
    "#             pred_influence_matrix = A1 * W1 + B\n",
    "#             losses += cp.sum_squares(pred_influence_matrix - influence_matrix)\n",
    "    \n",
    "#             constraints += [pred_influence_matrix >= 0]\n",
    "#             constraints += [cp.sum_entries(pred_influence_matrix, axis=1) == 1]\n",
    "\n",
    "        regluarization = cp.norm1(W1) + cp.norm1(B)\n",
    "        objective = cp.Minimize(losses + lambdaa * regluarization)\n",
    "        prob = cp.Problem(objective)  #, constraints)\n",
    "        result = prob.solve(cp.MOSEK)\n",
    "        print('It was {} and result was {}'.format(prob.status, result))\n",
    "\n",
    "    model_err = 0\n",
    "    random_err = 0\n",
    "    uniform_err = 0\n",
    "    for index in range(len(X_test)):\n",
    "        element = X_test[index]\n",
    "        influence_matrix = y_test[index]['influence_matrix']\n",
    "\n",
    "        # Random model prediction:\n",
    "        pred_random_influence_matrix = np.matrix(utils.make_matrix_row_stochastic(\n",
    "            np.random.rand(4, 4)))\n",
    "        random_err += compute_matrix_err(\n",
    "            influence_matrix, pred_random_influence_matrix)\n",
    "\n",
    "        # Uniform prediction:\n",
    "        pred_uniform_influence_matrix = np.matrix(np.ones((4, 4)) * 0.25)\n",
    "        uniform_err += compute_matrix_err(\n",
    "            influence_matrix, pred_uniform_influence_matrix)\n",
    "\n",
    "        # Optimization model prediction:\n",
    "        A1 = element['first_influence_matrices']\n",
    "        predicted_influence_matrix = A1 * W1.value + B.value\n",
    "#         predicted_influence_matrix = utils.make_matrix_row_stochastic(predicted_influence_matrix)\n",
    "        model_err += compute_matrix_err(\n",
    "            influence_matrix, predicted_influence_matrix)\n",
    "\n",
    "    model_err /= len(X_test)\n",
    "    random_err /= len(X_test)\n",
    "    uniform_err /= len(X_test)\n",
    "\n",
    "    model_errs.append(model_err)\n",
    "    random_errs.append(random_err)\n",
    "    uniform_errs.append(uniform_err)"
   ]
  },
  {
   "cell_type": "code",
   "execution_count": 77,
   "metadata": {},
   "outputs": [
    {
     "data": {
      "text/plain": [
       "<matplotlib.axes._subplots.AxesSubplot at 0x7f39350e20b8>"
      ]
     },
     "execution_count": 77,
     "metadata": {},
     "output_type": "execute_result"
    },
    {
     "data": {
      "image/png": "[encoded data removed]",
      "text/plain": [
       "<matplotlib.figure.Figure at 0x7f395ce50588>"
      ]
     },
     "metadata": {
      "needs_background": "light"
     },
     "output_type": "display_data"
    }
   ],
   "source": [
    "sns.heatmap(W1.value)"
   ]
  },
  {
   "cell_type": "code",
   "execution_count": 78,
   "metadata": {},
   "outputs": [
    {
     "data": {
      "text/plain": [
       "<matplotlib.axes._subplots.AxesSubplot at 0x7f3965116da0>"
      ]
     },
     "execution_count": 78,
     "metadata": {},
     "output_type": "execute_result"
    },
    {
     "data": {
      "image/png": "[encoded data removed]",
      "text/plain": [
       "<matplotlib.figure.Figure at 0x7f39350bca20>"
      ]
     },
     "metadata": {
      "needs_background": "light"
     },
     "output_type": "display_data"
    }
   ],
   "source": [
    "sns.heatmap(B.value)"
   ]
  },
  {
   "cell_type": "code",
   "execution_count": 79,
   "metadata": {},
   "outputs": [
    {
     "name": "stdout",
     "output_type": "stream",
     "text": [
      "random: 0.6174122674483592 +- 0.010745327398581805\n",
      "uniform: 0.32959302075858365 +- 0.0013100443835122044\n",
      "model: 0.3118306822846595 +- 0.014195220272253922\n"
     ]
    },
    {
     "data": {
      "image/png": "[encoded data removed]",
      "text/plain": [
       "<matplotlib.figure.Figure at 0x7f395f5956a0>"
      ]
     },
     "metadata": {
      "needs_background": "light"
     },
     "output_type": "display_data"
    }
   ],
   "source": [
    "plt.hist(model_errs)\n",
    "plt.hist(random_errs)\n",
    "plt.hist(uniform_errs)\n",
    "plt.legend(['model', 'random', 'uniform']);\n",
    "\n",
    "print('random: {} +- {}'.format(np.mean(random_errs), np.std(random_errs)))\n",
    "print('uniform: {} +- {}'.format(np.mean(uniform_errs), np.std(uniform_errs)))\n",
    "print('model: {} +- {}'.format(np.mean(model_errs), np.std(model_errs)));"
   ]
  },
  {
   "cell_type": "markdown",
   "metadata": {},
   "source": [
    "## With only first influence matrix:"
   ]
  },
  {
   "cell_type": "code",
   "execution_count": 41,
   "metadata": {},
   "outputs": [
    {
     "name": "stdout",
     "output_type": "stream",
     "text": [
      "Run 0 ...\n",
      "It was optimal and result was 706.2716566029851\n",
      "It took 8.53 seconds.\n",
      "Run 1 ...\n",
      "It was optimal and result was 725.2967084206348\n",
      "It took 8.15 seconds.\n",
      "Run 2 ...\n",
      "It was optimal and result was 729.3568777054649\n",
      "It took 8.39 seconds.\n",
      "Run 3 ...\n",
      "It was optimal and result was 790.85751307092\n",
      "It took 8.20 seconds.\n",
      "Run 4 ...\n",
      "It was optimal and result was 741.6704197589056\n",
      "It took 8.04 seconds.\n",
      "Run 5 ...\n",
      "It was optimal and result was 730.4596655976875\n",
      "It took 8.46 seconds.\n",
      "Run 6 ...\n",
      "It was optimal and result was 748.0404230169861\n",
      "It took 8.10 seconds.\n",
      "Run 7 ...\n",
      "It was optimal and result was 745.8602492362488\n",
      "It took 8.25 seconds.\n",
      "Run 8 ...\n",
      "It was optimal and result was 740.2080026737219\n",
      "It took 8.38 seconds.\n",
      "Run 9 ...\n",
      "It was optimal and result was 751.6454826892564\n",
      "It took 8.31 seconds.\n",
      "Run 10 ...\n",
      "It was optimal and result was 757.0639700348117\n",
      "It took 8.34 seconds.\n",
      "Run 11 ...\n",
      "It was optimal and result was 722.5008307120946\n",
      "It took 8.20 seconds.\n",
      "Run 12 ...\n",
      "It was optimal and result was 773.1717285302872\n",
      "It took 8.07 seconds.\n",
      "Run 13 ...\n",
      "It was optimal and result was 761.3156748306642\n",
      "It took 8.51 seconds.\n",
      "Run 14 ...\n",
      "It was optimal and result was 771.5449579641363\n",
      "It took 8.09 seconds.\n",
      "Run 15 ...\n",
      "It was optimal and result was 757.6665474042478\n",
      "It took 8.58 seconds.\n",
      "Run 16 ...\n",
      "It was optimal and result was 802.7204378916542\n",
      "It took 8.10 seconds.\n",
      "Run 17 ...\n",
      "It was optimal and result was 751.0046950388785\n",
      "It took 8.26 seconds.\n",
      "Run 18 ...\n",
      "It was optimal and result was 703.6178846218068\n",
      "It took 8.40 seconds.\n",
      "Run 19 ...\n",
      "It was optimal and result was 776.4306712444236\n",
      "It took 8.24 seconds.\n",
      "Run 20 ...\n",
      "It was optimal and result was 692.9867096410633\n",
      "It took 8.43 seconds.\n",
      "Run 21 ...\n",
      "It was optimal and result was 709.8937134031064\n",
      "It took 8.26 seconds.\n",
      "Run 22 ...\n",
      "It was optimal and result was 746.6969778308733\n",
      "It took 8.46 seconds.\n",
      "Run 23 ...\n",
      "It was optimal and result was 738.8488963100485\n",
      "It took 8.28 seconds.\n",
      "Run 24 ...\n",
      "It was optimal and result was 730.6018541976819\n",
      "It took 8.13 seconds.\n",
      "Run 25 ...\n",
      "It was optimal and result was 756.3839563954945\n",
      "It took 8.20 seconds.\n",
      "Run 26 ...\n",
      "It was optimal and result was 731.3960886021971\n",
      "It took 8.46 seconds.\n",
      "Run 27 ...\n",
      "It was optimal and result was 752.271762096414\n",
      "It took 8.24 seconds.\n",
      "Run 28 ...\n",
      "It was optimal and result was 719.538710711312\n",
      "It took 8.08 seconds.\n",
      "Run 29 ...\n",
      "It was optimal and result was 756.8704878754714\n",
      "It took 8.20 seconds.\n"
     ]
    }
   ],
   "source": [
    "lambdaa = 0.1\n",
    "\n",
    "\n",
    "model_errs = []\n",
    "random_errs = []\n",
    "uniform_errs = []\n",
    "\n",
    "for run in range(runs):\n",
    "    print('Run', run, '...')\n",
    "    X_train, X_test, y_train, y_test = train_test_split(\n",
    "        data['X'], data['y'], test_size=test_fraction)\n",
    "    \n",
    "    X_train, y_train = utils.replicate_networks_in_train_dataset_with_reordering(\n",
    "        X_train, y_train)\n",
    "    \n",
    "    # Solving the optimization problem.\n",
    "    with Timer():\n",
    "        W1 = cp.Variable(4, 4)\n",
    "        B = cp.Variable(4, 4)\n",
    "\n",
    "#         constraints = []\n",
    "        losses = 0\n",
    "        for index in range(len(X_train)):\n",
    "            element = X_train[index]\n",
    "            influence_matrix = y_train[index]['influence_matrix']\n",
    "            A1 = element['first_influence_matrices']\n",
    "            pred_influence_matrix = A1 * W1 + B\n",
    "            loss = pred_influence_matrix - influence_matrix\n",
    "            losses += cp.sum_squares(loss)\n",
    "#             constraints += [pred_influence_matrix >= 0]\n",
    "#             constraints += [cp.sum_entries(pred_influence_matrix, axis=1) == 1]\n",
    "\n",
    "        regluarization = cp.norm1(W1) + cp.norm1(B)\n",
    "        objective = cp.Minimize(losses + lambdaa * regluarization)\n",
    "        prob = cp.Problem(objective)  #, constraints)\n",
    "        result = prob.solve(solver=cp.MOSEK)\n",
    "        print('It was {} and result was {}'.format(prob.status, result))\n",
    "\n",
    "    model_err = 0\n",
    "    random_err = 0\n",
    "    uniform_err = 0\n",
    "    for index in range(len(X_test)):\n",
    "        element = X_test[index]\n",
    "        influence_matrix = y_test[index]['influence_matrix']\n",
    "\n",
    "        # Random model prediction:\n",
    "        pred_random_influence_matrix = np.matrix(utils.make_matrix_row_stochastic(\n",
    "            np.random.rand(4, 4)))\n",
    "        random_err += compute_matrix_err(\n",
    "            influence_matrix, pred_random_influence_matrix)\n",
    "\n",
    "        # Uniform prediction:\n",
    "        pred_uniform_influence_matrix = np.matrix(np.ones((4, 4)) * 0.25)\n",
    "        uniform_err += compute_matrix_err(\n",
    "            influence_matrix, pred_uniform_influence_matrix)\n",
    "\n",
    "        # Optimization model prediction:\n",
    "        A1 = element['first_influence_matrices']\n",
    "        predicted_influence_matrix = A1 * W1.value + B.value\n",
    "        predicted_influence_matrix = utils.make_matrix_row_stochastic(predicted_influence_matrix)\n",
    "        model_err += compute_matrix_err(\n",
    "            influence_matrix, predicted_influence_matrix)\n",
    "\n",
    "    model_err /= len(X_test)\n",
    "    random_err /= len(X_test)\n",
    "    uniform_err /= len(X_test)\n",
    "\n",
    "    model_errs.append(model_err)\n",
    "    random_errs.append(random_err)\n",
    "    uniform_errs.append(uniform_err)"
   ]
  },
  {
   "cell_type": "code",
   "execution_count": 42,
   "metadata": {},
   "outputs": [
    {
     "data": {
      "image/png": "[encoded data removed]",
      "text/plain": [
       "<matplotlib.figure.Figure at 0x7f3964f1ea58>"
      ]
     },
     "metadata": {
      "needs_background": "light"
     },
     "output_type": "display_data"
    }
   ],
   "source": [
    "sns.heatmap(W1.value);"
   ]
  },
  {
   "cell_type": "code",
   "execution_count": 43,
   "metadata": {},
   "outputs": [
    {
     "data": {
      "image/png": "[encoded data removed]",
      "text/plain": [
       "<matplotlib.figure.Figure at 0x7f395dd4b6d8>"
      ]
     },
     "metadata": {
      "needs_background": "light"
     },
     "output_type": "display_data"
    }
   ],
   "source": [
    "sns.heatmap(B.value);"
   ]
  },
  {
   "cell_type": "code",
   "execution_count": 44,
   "metadata": {},
   "outputs": [
    {
     "name": "stdout",
     "output_type": "stream",
     "text": [
      "random: 0.6243558196617354 +- 0.016342017290113944\n",
      "uniform: 0.33383808379551116 +- 0.02051633468139265\n",
      "model: 0.3046381312730851 +- 0.01656283321629026\n"
     ]
    },
    {
     "data": {
      "image/png": "[encoded data removed]",
      "text/plain": [
       "<matplotlib.figure.Figure at 0x7f395d4b7e10>"
      ]
     },
     "metadata": {
      "needs_background": "light"
     },
     "output_type": "display_data"
    }
   ],
   "source": [
    "plt.hist(model_errs)\n",
    "plt.hist(random_errs)\n",
    "plt.hist(uniform_errs)\n",
    "plt.legend(['model', 'random', 'uniform']);\n",
    "\n",
    "print('random: {} +- {}'.format(np.mean(random_errs), np.std(random_errs)))\n",
    "print('uniform: {} +- {}'.format(np.mean(uniform_errs), np.std(uniform_errs)))\n",
    "print('model: {} +- {}'.format(np.mean(model_errs), np.std(model_errs)));"
   ]
  },
  {
   "cell_type": "code",
   "execution_count": null,
   "metadata": {},
   "outputs": [],
   "source": []
  },
  {
   "cell_type": "code",
   "execution_count": null,
   "metadata": {},
   "outputs": [],
   "source": []
  },
  {
   "cell_type": "code",
   "execution_count": null,
   "metadata": {},
   "outputs": [],
   "source": []
  },
  {
   "cell_type": "code",
   "execution_count": 135,
   "metadata": {},
   "outputs": [
    {
     "name": "stdout",
     "output_type": "stream",
     "text": [
      "random: 0.6212294304253135 +- 0.01706147914657565\n",
      "uniform: 0.3308111043908909 +- 0.019409182902447326\n",
      "model: 0.3044930561618803 +- 0.016874360467564523\n"
     ]
    },
    {
     "data": {
      "image/png": "[encoded data removed]",
      "text/plain": [
       "<matplotlib.figure.Figure at 0x7fe52b4af828>"
      ]
     },
     "metadata": {
      "needs_background": "light"
     },
     "output_type": "display_data"
    }
   ],
   "source": [
    "# Just the dataset itself:\n",
    "plt.hist(model_errs)\n",
    "plt.hist(random_errs)\n",
    "plt.hist(uniform_errs)\n",
    "plt.legend(['model', 'random', 'uniform']);\n",
    "\n",
    "print('random: {} +- {}'.format(np.mean(random_errs), np.std(random_errs)))\n",
    "print('uniform: {} +- {}'.format(np.mean(uniform_errs), np.std(uniform_errs)))\n",
    "print('model: {} +- {}'.format(np.mean(model_errs), np.std(model_errs)));"
   ]
  },
  {
   "cell_type": "markdown",
   "metadata": {},
   "source": [
    "## With individual performance"
   ]
  },
  {
   "cell_type": "code",
   "execution_count": 154,
   "metadata": {},
   "outputs": [],
   "source": [
    "runs = 30"
   ]
  },
  {
   "cell_type": "code",
   "execution_count": 165,
   "metadata": {},
   "outputs": [
    {
     "name": "stdout",
     "output_type": "stream",
     "text": [
      "Run 0 ...\n",
      "It was optimal and result was 928.9913317524542\n",
      "It took 9.20 seconds.\n",
      "Run 1 ...\n",
      "It was optimal and result was 913.1061264854263\n",
      "It took 8.30 seconds.\n",
      "Run 2 ...\n",
      "It was optimal and result was 903.8728762511168\n",
      "It took 8.75 seconds.\n",
      "Run 3 ...\n",
      "It was optimal and result was 867.8828364240363\n",
      "It took 8.13 seconds.\n",
      "Run 4 ...\n",
      "It was optimal and result was 889.34064740993\n",
      "It took 8.23 seconds.\n",
      "Run 5 ...\n",
      "It was optimal and result was 843.2909222995145\n",
      "It took 8.28 seconds.\n",
      "Run 6 ...\n",
      "It was optimal and result was 852.8300252172576\n",
      "It took 8.58 seconds.\n",
      "Run 7 ...\n",
      "It was optimal and result was 925.2913079170091\n",
      "It took 9.22 seconds.\n",
      "Run 8 ...\n",
      "It was optimal and result was 935.5692658217729\n",
      "It took 8.20 seconds.\n",
      "Run 9 ...\n",
      "It was optimal and result was 896.7114675912051\n",
      "It took 8.99 seconds.\n",
      "Run 10 ...\n",
      "It was optimal and result was 887.9626133587165\n",
      "It took 8.18 seconds.\n",
      "Run 11 ...\n",
      "It was optimal and result was 880.1309792135107\n",
      "It took 8.28 seconds.\n",
      "Run 12 ...\n",
      "It was optimal and result was 912.5468971558059\n",
      "It took 8.38 seconds.\n",
      "Run 13 ...\n",
      "It was optimal and result was 893.7691040372658\n",
      "It took 8.30 seconds.\n",
      "Run 14 ...\n",
      "It was optimal and result was 867.7243690994555\n",
      "It took 8.06 seconds.\n",
      "Run 15 ...\n",
      "It was optimal and result was 898.9845841493229\n",
      "It took 8.45 seconds.\n",
      "Run 16 ...\n",
      "It was optimal and result was 926.1681844716882\n",
      "It took 8.57 seconds.\n",
      "Run 17 ...\n",
      "It was optimal and result was 873.5591297059268\n",
      "It took 8.98 seconds.\n",
      "Run 18 ...\n",
      "It was optimal and result was 900.2352400527419\n",
      "It took 8.44 seconds.\n",
      "Run 19 ...\n",
      "It was optimal and result was 916.9204755858933\n",
      "It took 8.92 seconds.\n",
      "Run 20 ...\n",
      "It was optimal and result was 930.1470138762163\n",
      "It took 8.20 seconds.\n",
      "Run 21 ...\n",
      "It was optimal and result was 915.3459193157779\n",
      "It took 8.99 seconds.\n",
      "Run 22 ...\n",
      "It was optimal and result was 916.0662678488696\n",
      "It took 8.27 seconds.\n",
      "Run 23 ...\n",
      "It was optimal and result was 861.7064247609676\n",
      "It took 8.87 seconds.\n",
      "Run 24 ...\n",
      "It was optimal and result was 884.6879830437215\n",
      "It took 8.14 seconds.\n",
      "Run 25 ...\n",
      "It was optimal and result was 918.5228812088408\n",
      "It took 8.33 seconds.\n",
      "Run 26 ...\n",
      "It was optimal and result was 915.0773436541429\n",
      "It took 8.22 seconds.\n",
      "Run 27 ...\n",
      "It was optimal and result was 905.1145819426658\n",
      "It took 8.12 seconds.\n",
      "Run 28 ...\n",
      "It was optimal and result was 874.2519988826623\n",
      "It took 8.60 seconds.\n",
      "Run 29 ...\n",
      "It was optimal and result was 828.9451398493302\n",
      "It took 8.73 seconds.\n",
      "It took 4.80 minutes.\n"
     ]
    }
   ],
   "source": [
    "with Timer():\n",
    "    lambdaa = 0.1\n",
    "\n",
    "\n",
    "    model_errs = []\n",
    "    random_errs = []\n",
    "    uniform_errs = []\n",
    "\n",
    "    for run in range(runs):\n",
    "        print('Run', run, '...')\n",
    "        X_train, X_test, y_train, y_test = train_test_split(\n",
    "            data['X'], data['y'], test_size=test_fraction)\n",
    "\n",
    "        X_train, y_train = utils.replicate_networks_in_train_dataset_with_reordering(\n",
    "            X_train, y_train)\n",
    "\n",
    "        # Solving the optimization problem.\n",
    "        with Timer():\n",
    "            W1 = cp.Variable(4, 4)\n",
    "            B = cp.Variable(4, 4)\n",
    "\n",
    "    #         constraints = []\n",
    "            losses = 0\n",
    "            for index in range(len(X_train)):\n",
    "                element = X_train[index]\n",
    "                influence_matrix = y_train[index]['influence_matrix']\n",
    "    #             A1 = element['individual_performance']\n",
    "                p = element['individual_performance_hardness_weighted']\n",
    "                A1 = np.row_stack([p, p, p, p])\n",
    "\n",
    "                pred_influence_matrix = A1 * W1 + B\n",
    "                loss = pred_influence_matrix - influence_matrix\n",
    "                losses += cp.sum_squares(loss)\n",
    "    #             constraints += [pred_influence_matrix >= 0]\n",
    "    #             constraints += [cp.sum_entries(pred_influence_matrix, axis=1) == 1]\n",
    "\n",
    "            regluarization = cp.norm1(W1) + cp.norm1(B)\n",
    "            objective = cp.Minimize(losses + lambdaa * regluarization)\n",
    "            prob = cp.Problem(objective)  #, constraints)\n",
    "            result = prob.solve(solver=cp.MOSEK)\n",
    "            print('It was {} and result was {}'.format(prob.status, result))\n",
    "\n",
    "        model_err = 0\n",
    "        random_err = 0\n",
    "        uniform_err = 0\n",
    "        for index in range(len(X_test)):\n",
    "            element = X_test[index]\n",
    "            influence_matrix = y_test[index]['influence_matrix']\n",
    "\n",
    "            # Random model prediction:\n",
    "            pred_random_influence_matrix = np.matrix(utils.make_matrix_row_stochastic(\n",
    "                np.random.rand(4, 4)))\n",
    "            random_err += compute_matrix_err(\n",
    "                influence_matrix, pred_random_influence_matrix)\n",
    "\n",
    "            # Uniform prediction:\n",
    "            pred_uniform_influence_matrix = np.matrix(np.ones((4, 4)) * 0.25)\n",
    "            uniform_err += compute_matrix_err(\n",
    "                influence_matrix, pred_uniform_influence_matrix)\n",
    "\n",
    "            # Optimization model prediction:\n",
    "    #         A1 = element['individual_performance']\n",
    "            p = element['individual_performance_hardness_weighted']\n",
    "            A1 = np.row_stack([p, p, p, p])\n",
    "\n",
    "            predicted_influence_matrix = A1 * W1.value + B.value\n",
    "            predicted_influence_matrix = utils.make_matrix_row_stochastic(predicted_influence_matrix)\n",
    "            model_err += compute_matrix_err(\n",
    "                influence_matrix, predicted_influence_matrix)\n",
    "\n",
    "        model_err /= len(X_test)\n",
    "        random_err /= len(X_test)\n",
    "        uniform_err /= len(X_test)\n",
    "\n",
    "        model_errs.append(model_err)\n",
    "        random_errs.append(random_err)\n",
    "        uniform_errs.append(uniform_err)"
   ]
  },
  {
   "cell_type": "code",
   "execution_count": 166,
   "metadata": {},
   "outputs": [
    {
     "data": {
      "image/png": "[encoded data removed]",
      "text/plain": [
       "<matplotlib.figure.Figure at 0x7f3960e67ac8>"
      ]
     },
     "metadata": {
      "needs_background": "light"
     },
     "output_type": "display_data"
    }
   ],
   "source": [
    "sns.heatmap(W1.value);"
   ]
  },
  {
   "cell_type": "code",
   "execution_count": 167,
   "metadata": {},
   "outputs": [
    {
     "data": {
      "image/png": "[encoded data removed]",
      "text/plain": [
       "<matplotlib.figure.Figure at 0x7f3963fa92e8>"
      ]
     },
     "metadata": {
      "needs_background": "light"
     },
     "output_type": "display_data"
    }
   ],
   "source": [
    "sns.heatmap(B.value);"
   ]
  },
  {
   "cell_type": "code",
   "execution_count": 168,
   "metadata": {},
   "outputs": [
    {
     "name": "stdout",
     "output_type": "stream",
     "text": [
      "random: 0.6216012908918773 +- 0.01642054499508854\n",
      "uniform: 0.33076050491720327 +- 0.020687093389048193\n",
      "model: 0.3277117626599369 +- 0.018084551142832275\n"
     ]
    },
    {
     "data": {
      "image/png": "[encoded data removed]",
      "text/plain": [
       "<matplotlib.figure.Figure at 0x7f39612c6390>"
      ]
     },
     "metadata": {
      "needs_background": "light"
     },
     "output_type": "display_data"
    }
   ],
   "source": [
    "plt.hist(model_errs)\n",
    "plt.hist(random_errs)\n",
    "plt.hist(uniform_errs)\n",
    "plt.legend(['model', 'random', 'uniform'])\n",
    "\n",
    "print('random: {} +- {}'.format(np.mean(random_errs), np.std(random_errs)))\n",
    "print('uniform: {} +- {}'.format(np.mean(uniform_errs), np.std(uniform_errs)))\n",
    "print('model: {} +- {}'.format(np.mean(model_errs), np.std(model_errs)));"
   ]
  },
  {
   "cell_type": "markdown",
   "metadata": {},
   "source": [
    "## With first influence matrix and individual performance (with correlation)"
   ]
  },
  {
   "cell_type": "code",
   "execution_count": 212,
   "metadata": {},
   "outputs": [
    {
     "name": "stdout",
     "output_type": "stream",
     "text": [
      "Run 0 ...\n",
      "It was optimal and result was 731.0731926843044\n",
      "It took 11.96 seconds.\n",
      "Run 1 ...\n"
     ]
    },
    {
     "name": "stderr",
     "output_type": "stream",
     "text": [
      "/home/omid/.local/lib/python3.5/site-packages/scipy/stats/stats.py:3038: RuntimeWarning: invalid value encountered in double_scalars\n",
      "  r = r_num / r_den\n"
     ]
    },
    {
     "name": "stdout",
     "output_type": "stream",
     "text": [
      "It was optimal and result was 687.5664615926871\n",
      "It took 11.62 seconds.\n",
      "Run 2 ...\n",
      "It was optimal and result was 730.7834768116477\n",
      "It took 12.60 seconds.\n",
      "Run 3 ...\n",
      "It was optimal and result was 705.5978672278927\n",
      "It took 10.88 seconds.\n",
      "Run 4 ...\n",
      "It was optimal and result was 697.8006680906753\n",
      "It took 11.97 seconds.\n",
      "Run 5 ...\n",
      "It was optimal and result was 686.9047784064297\n",
      "It took 10.98 seconds.\n",
      "Run 6 ...\n",
      "It was optimal and result was 759.7508107355045\n",
      "It took 11.48 seconds.\n",
      "Run 7 ...\n",
      "It was optimal and result was 724.3845483545358\n",
      "It took 11.23 seconds.\n",
      "Run 8 ...\n",
      "It was optimal and result was 724.0097545086094\n",
      "It took 11.01 seconds.\n",
      "Run 9 ...\n",
      "It was optimal and result was 733.6994296332045\n",
      "It took 10.96 seconds.\n",
      "Run 10 ...\n",
      "It was optimal and result was 693.2030973668494\n",
      "It took 12.21 seconds.\n",
      "Run 11 ...\n",
      "It was optimal and result was 718.460815363205\n",
      "It took 11.70 seconds.\n",
      "Run 12 ...\n",
      "It was optimal and result was 755.4747057512187\n",
      "It took 10.79 seconds.\n",
      "Run 13 ...\n",
      "It was optimal and result was 726.9217211104365\n",
      "It took 12.87 seconds.\n",
      "Run 14 ...\n",
      "It was optimal and result was 753.4879538663957\n",
      "It took 10.79 seconds.\n",
      "Run 15 ...\n",
      "It was optimal and result was 719.544816906373\n",
      "It took 11.12 seconds.\n",
      "Run 16 ...\n",
      "It was optimal and result was 766.6160108369157\n",
      "It took 10.98 seconds.\n",
      "Run 17 ...\n",
      "It was optimal and result was 780.7715366021671\n",
      "It took 11.40 seconds.\n",
      "Run 18 ...\n",
      "It was optimal and result was 715.1707203221409\n",
      "It took 11.95 seconds.\n",
      "Run 19 ...\n",
      "It was optimal and result was 710.0560315370784\n",
      "It took 11.95 seconds.\n",
      "Run 20 ...\n",
      "It was optimal and result was 735.7547483786449\n",
      "It took 10.95 seconds.\n",
      "Run 21 ...\n",
      "It was optimal and result was 761.4578326996237\n",
      "It took 11.14 seconds.\n",
      "Run 22 ...\n",
      "It was optimal and result was 704.5799069473801\n",
      "It took 10.88 seconds.\n",
      "Run 23 ...\n",
      "It was optimal and result was 737.9993872996721\n",
      "It took 11.23 seconds.\n",
      "Run 24 ...\n",
      "It was optimal and result was 713.3085760725241\n",
      "It took 11.69 seconds.\n",
      "Run 25 ...\n",
      "It was optimal and result was 700.3594301995174\n",
      "It took 11.46 seconds.\n",
      "Run 26 ...\n",
      "It was optimal and result was 728.1786306787983\n",
      "It took 10.43 seconds.\n",
      "Run 27 ...\n",
      "It was optimal and result was 710.5488034633358\n",
      "It took 10.71 seconds.\n",
      "Run 28 ...\n",
      "It was optimal and result was 762.011000284089\n",
      "It took 10.74 seconds.\n",
      "Run 29 ...\n",
      "It was optimal and result was 720.2735646021774\n",
      "It took 10.83 seconds.\n",
      "It took 6.25 minutes.\n"
     ]
    }
   ],
   "source": [
    "with Timer():\n",
    "    # injaaaaaaaaaaaaaa\n",
    "    lambdaa = 0.1\n",
    "\n",
    "\n",
    "    model_errs = []\n",
    "    random_errs = []\n",
    "    uniform_errs = []\n",
    "\n",
    "    for run in range(runs):\n",
    "        print('Run', run, '...')\n",
    "        X_train, X_test, y_train, y_test = train_test_split(\n",
    "            data['X'], data['y'], test_size=test_fraction)\n",
    "\n",
    "        X_train, y_train = utils.replicate_networks_in_train_dataset_with_reordering(\n",
    "            X_train, y_train)\n",
    "\n",
    "        # Solving the optimization problem.\n",
    "        with Timer():\n",
    "            W1 = cp.Variable(4, 4)\n",
    "            W2 = cp.Variable(4, 4)\n",
    "            B = cp.Variable(4, 4)\n",
    "\n",
    "    #         constraints = []\n",
    "            losses = 0\n",
    "            for index in range(len(X_train)):\n",
    "                element = X_train[index]\n",
    "                influence_matrix = np.matrix(utils.make_matrix_row_stochastic(\n",
    "                    y_train[index]['influence_matrix']))\n",
    "                A1 = element['first_influence_matrices']\n",
    "                p = element['individual_performance_hardness_weighted']\n",
    "                A2 = np.row_stack([p, p, p, p])\n",
    "\n",
    "                pred_influence_matrix = A1 * W1 + A2 * W2 + B\n",
    "                loss = pred_influence_matrix - influence_matrix\n",
    "                losses += cp.sum_squares(loss)\n",
    "    #             constraints += [pred_influence_matrix >= 0]\n",
    "    #             constraints += [cp.sum_entries(pred_influence_matrix, axis=1) == 1]\n",
    "\n",
    "            regluarization = cp.norm1(W1) + cp.norm1(B)\n",
    "            objective = cp.Minimize(losses + lambdaa * regluarization)\n",
    "            prob = cp.Problem(objective)  #, constraints)\n",
    "            result = prob.solve(solver=cp.MOSEK)\n",
    "            print('It was {} and result was {}'.format(prob.status, result))\n",
    "\n",
    "        model_err = 0\n",
    "        random_err = 0\n",
    "        uniform_err = 0\n",
    "        for index in range(len(X_test)):\n",
    "            element = X_test[index]\n",
    "            influence_matrix = np.matrix(utils.make_matrix_row_stochastic(\n",
    "                y_test[index]['influence_matrix']))\n",
    "\n",
    "            # Random model prediction:\n",
    "            pred_random_influence_matrix = np.matrix(utils.make_matrix_row_stochastic(\n",
    "                np.random.rand(4, 4)))\n",
    "            random_err += compute_matrix_err(\n",
    "                influence_matrix, pred_random_influence_matrix)\n",
    "\n",
    "            # Uniform prediction:\n",
    "            pred_uniform_influence_matrix = np.matrix(np.ones((4, 4)) * 0.25)\n",
    "            uniform_err += compute_matrix_err(\n",
    "                influence_matrix, pred_uniform_influence_matrix)\n",
    "\n",
    "            # Optimization model prediction:\n",
    "    #         A1 = element['individual_performance']\n",
    "            A1 = element['first_influence_matrices']\n",
    "            p = element['individual_performance_hardness_weighted']\n",
    "            A2 = np.row_stack([p, p, p, p])\n",
    "\n",
    "            predicted_influence_matrix = A1 * W1.value + A2 * W2.value + B.value\n",
    "            predicted_influence_matrix = np.matrix(utils.make_matrix_row_stochastic(predicted_influence_matrix))\n",
    "            model_err += compute_matrix_err(\n",
    "                influence_matrix, predicted_influence_matrix)\n",
    "\n",
    "        model_err /= len(X_test)\n",
    "        random_err /= len(X_test)\n",
    "        uniform_err /= len(X_test)\n",
    "\n",
    "        model_errs.append(model_err)\n",
    "        random_errs.append(random_err)\n",
    "        uniform_errs.append(uniform_err)"
   ]
  },
  {
   "cell_type": "code",
   "execution_count": 214,
   "metadata": {},
   "outputs": [
    {
     "name": "stdout",
     "output_type": "stream",
     "text": [
      "random: 0.003588403757425634 +- 0.01880402426128169\n",
      "uniform: 0.0 +- 0.0\n",
      "model: 0.3476111837256666 +- 0.046129895282981406\n"
     ]
    },
    {
     "data": {
      "image/png": "[encoded data removed]",
      "text/plain": [
       "<matplotlib.figure.Figure at 0x7f395f61f630>"
      ]
     },
     "metadata": {
      "needs_background": "light"
     },
     "output_type": "display_data"
    }
   ],
   "source": [
    "plt.hist(model_errs)\n",
    "plt.hist(random_errs)\n",
    "plt.hist(uniform_errs)\n",
    "plt.legend(['model', 'random', 'uniform'])\n",
    "\n",
    "print('random: {} +- {}'.format(np.mean(random_errs), np.std(random_errs)))\n",
    "print('uniform: {} +- {}'.format(np.mean(uniform_errs), np.std(uniform_errs)))\n",
    "print('model: {} +- {}'.format(np.mean(model_errs), np.std(model_errs)));"
   ]
  },
  {
   "cell_type": "code",
   "execution_count": 226,
   "metadata": {},
   "outputs": [
    {
     "name": "stderr",
     "output_type": "stream",
     "text": [
      "/home/omid/.local/lib/python3.5/site-packages/scipy/stats/stats.py:3038: RuntimeWarning: invalid value encountered in double_scalars\n",
      "  r = r_num / r_den\n"
     ]
    }
   ],
   "source": [
    "corrz = []\n",
    "for index in range(len(X_test)):\n",
    "    element = X_test[index]\n",
    "    influence_matrix = np.matrix(utils.make_matrix_row_stochastic(\n",
    "        y_test[index]['influence_matrix']))\n",
    "\n",
    "    # Optimization model prediction:\n",
    "    A1 = element['first_influence_matrices']\n",
    "    p = element['individual_performance_hardness_weighted']\n",
    "    A2 = np.row_stack([p, p, p, p])\n",
    "\n",
    "    predicted_influence_matrix = A1 * W1.value + A2 * W2.value + B.value\n",
    "    predicted_influence_matrix = np.matrix(utils.make_matrix_row_stochastic(predicted_influence_matrix))\n",
    "    cr = compute_matrix_err(\n",
    "        influence_matrix, predicted_influence_matrix)\n",
    "    corrz.append(cr)\n",
    "corrz = np.array(corrz)"
   ]
  },
  {
   "cell_type": "code",
   "execution_count": 237,
   "metadata": {},
   "outputs": [
    {
     "data": {
      "text/plain": [
       "(array([ 2.,  0.,  0.,  0.,  0.,  0.,  0.,  3., 10., 12.]),\n",
       " array([-6.30507091e-01, -4.73069793e-01, -3.15632495e-01, -1.58195197e-01,\n",
       "        -7.57898308e-04,  1.56679400e-01,  3.14116698e-01,  4.71553996e-01,\n",
       "         6.28991295e-01,  7.86428593e-01,  9.43865891e-01]),\n",
       " <a list of 10 Patch objects>)"
      ]
     },
     "execution_count": 237,
     "metadata": {},
     "output_type": "execute_result"
    },
    {
     "data": {
      "image/png": "[encoded data removed]",
      "text/plain": [
       "<matplotlib.figure.Figure at 0x7f3964949518>"
      ]
     },
     "metadata": {
      "needs_background": "light"
     },
     "output_type": "display_data"
    }
   ],
   "source": [
    "plt.hist(corrz[corrz != 0])"
   ]
  },
  {
   "cell_type": "markdown",
   "metadata": {},
   "source": [
    "## With first influence matrix and individual performance (with frob norm)"
   ]
  },
  {
   "cell_type": "code",
   "execution_count": 180,
   "metadata": {},
   "outputs": [
    {
     "data": {
      "image/png": "[encoded data removed]",
      "text/plain": [
       "<matplotlib.figure.Figure at 0x7f395f3fb6a0>"
      ]
     },
     "metadata": {
      "needs_background": "light"
     },
     "output_type": "display_data"
    }
   ],
   "source": [
    "sns.heatmap(W1.value);"
   ]
  },
  {
   "cell_type": "code",
   "execution_count": 181,
   "metadata": {},
   "outputs": [
    {
     "data": {
      "image/png": "[encoded data removed]",
      "text/plain": [
       "<matplotlib.figure.Figure at 0x7f3963b34128>"
      ]
     },
     "metadata": {
      "needs_background": "light"
     },
     "output_type": "display_data"
    }
   ],
   "source": [
    "sns.heatmap(W2.value);"
   ]
  },
  {
   "cell_type": "code",
   "execution_count": 182,
   "metadata": {},
   "outputs": [
    {
     "data": {
      "image/png": "[encoded data removed]",
      "text/plain": [
       "<matplotlib.figure.Figure at 0x7f3963c7ae10>"
      ]
     },
     "metadata": {
      "needs_background": "light"
     },
     "output_type": "display_data"
    }
   ],
   "source": [
    "sns.heatmap(B.value);"
   ]
  },
  {
   "cell_type": "code",
   "execution_count": 183,
   "metadata": {},
   "outputs": [
    {
     "name": "stdout",
     "output_type": "stream",
     "text": [
      "random: 0.6273743596380378 +- 0.022857344339732598\n",
      "uniform: 0.3325318587873968 +- 0.016509363259459668\n",
      "model: 0.30392078030000086 +- 0.014614658704437995\n"
     ]
    },
    {
     "data": {
      "image/png": "[encoded data removed]",
      "text/plain": [
       "<matplotlib.figure.Figure at 0x7f39647b77f0>"
      ]
     },
     "metadata": {
      "needs_background": "light"
     },
     "output_type": "display_data"
    }
   ],
   "source": [
    "plt.hist(model_errs)\n",
    "plt.hist(random_errs)\n",
    "plt.hist(uniform_errs)\n",
    "plt.legend(['model', 'random', 'uniform'])\n",
    "\n",
    "print('random: {} +- {}'.format(np.mean(random_errs), np.std(random_errs)))\n",
    "print('uniform: {} +- {}'.format(np.mean(uniform_errs), np.std(uniform_errs)))\n",
    "print('model: {} +- {}'.format(np.mean(model_errs), np.std(model_errs)));"
   ]
  },
  {
   "cell_type": "markdown",
   "metadata": {},
   "source": [
    "#### With dataset itself (not replicating)"
   ]
  },
  {
   "cell_type": "code",
   "execution_count": 194,
   "metadata": {},
   "outputs": [
    {
     "name": "stdout",
     "output_type": "stream",
     "text": [
      "Run 0 ...\n",
      "It was optimal and result was 28.51809076444416\n",
      "It took 1.36 seconds.\n",
      "Run 1 ...\n",
      "It was optimal and result was 30.41072738434641\n",
      "It took 0.73 seconds.\n",
      "Run 2 ...\n",
      "It was optimal and result was 29.40180921410431\n",
      "It took 0.75 seconds.\n",
      "Run 3 ...\n",
      "It was optimal and result was 28.353878215583684\n",
      "It took 0.74 seconds.\n",
      "Run 4 ...\n",
      "It was optimal and result was 30.14478213696502\n",
      "It took 0.75 seconds.\n",
      "Run 5 ...\n",
      "It was optimal and result was 29.829221661536547\n",
      "It took 1.12 seconds.\n",
      "Run 6 ...\n",
      "It was optimal and result was 28.59195595280102\n",
      "It took 0.74 seconds.\n",
      "Run 7 ...\n",
      "It was optimal and result was 28.56885466447534\n",
      "It took 0.74 seconds.\n",
      "Run 8 ...\n",
      "It was optimal and result was 29.28699547098885\n",
      "It took 0.74 seconds.\n",
      "Run 9 ...\n",
      "It was optimal and result was 28.758981147520707\n",
      "It took 0.74 seconds.\n",
      "Run 10 ...\n",
      "It was optimal and result was 28.187010516153247\n",
      "It took 1.12 seconds.\n",
      "Run 11 ...\n",
      "It was optimal and result was 29.650355787057265\n",
      "It took 0.76 seconds.\n",
      "Run 12 ...\n",
      "It was optimal and result was 30.289640172550335\n",
      "It took 0.76 seconds.\n",
      "Run 13 ...\n",
      "It was optimal and result was 28.947232788045767\n",
      "It took 0.76 seconds.\n",
      "Run 14 ...\n",
      "It was optimal and result was 28.804007131269678\n",
      "It took 1.12 seconds.\n",
      "Run 15 ...\n",
      "It was optimal and result was 28.886367629817983\n",
      "It took 0.75 seconds.\n",
      "Run 16 ...\n",
      "It was optimal and result was 27.41495554339253\n",
      "It took 0.73 seconds.\n",
      "Run 17 ...\n",
      "It was optimal and result was 29.931433638607057\n",
      "It took 0.73 seconds.\n",
      "Run 18 ...\n",
      "It was optimal and result was 29.303237889182576\n",
      "It took 1.10 seconds.\n",
      "Run 19 ...\n",
      "It was optimal and result was 28.793842617839537\n",
      "It took 0.74 seconds.\n",
      "Run 20 ...\n",
      "It was optimal and result was 29.20474315853427\n",
      "It took 0.73 seconds.\n",
      "Run 21 ...\n",
      "It was optimal and result was 29.512337678210898\n",
      "It took 0.72 seconds.\n",
      "Run 22 ...\n",
      "It was optimal and result was 29.365860514658443\n",
      "It took 1.10 seconds.\n",
      "Run 23 ...\n",
      "It was optimal and result was 30.541862202967256\n",
      "It took 0.76 seconds.\n",
      "Run 24 ...\n",
      "It was optimal and result was 29.073746389085194\n",
      "It took 0.73 seconds.\n",
      "Run 25 ...\n",
      "It was optimal and result was 28.87688162651972\n",
      "It took 0.75 seconds.\n",
      "Run 26 ...\n",
      "It was optimal and result was 29.815583234890855\n",
      "It took 1.10 seconds.\n",
      "Run 27 ...\n",
      "It was optimal and result was 30.53144514752296\n",
      "It took 0.73 seconds.\n",
      "Run 28 ...\n",
      "It was optimal and result was 28.93551221793387\n",
      "It took 0.73 seconds.\n",
      "Run 29 ...\n",
      "It was optimal and result was 29.017700543025576\n",
      "It took 0.73 seconds.\n",
      "It took 25.61 seconds.\n"
     ]
    }
   ],
   "source": [
    "with Timer():\n",
    "    lambdaa = 0.1\n",
    "\n",
    "\n",
    "    model_errs = []\n",
    "    random_errs = []\n",
    "    uniform_errs = []\n",
    "\n",
    "    for run in range(runs):\n",
    "        print('Run', run, '...')\n",
    "        X_train, X_test, y_train, y_test = train_test_split(\n",
    "            data['X'], data['y'], test_size=test_fraction)\n",
    "\n",
    "#         X_train, y_train = utils.replicate_networks_in_train_dataset_with_reordering(\n",
    "#             X_train, y_train)\n",
    "\n",
    "        # Solving the optimization problem.\n",
    "        with Timer():\n",
    "            W1 = cp.Variable(4, 4)\n",
    "            W2 = cp.Variable(4, 4)\n",
    "            B = cp.Variable(4, 4)\n",
    "\n",
    "            constraints = []\n",
    "            losses = 0\n",
    "            for index in range(len(X_train)):\n",
    "                element = X_train[index]\n",
    "                influence_matrix = utils.make_matrix_row_stochastic(\n",
    "                    y_train[index]['influence_matrix'])\n",
    "                A1 = element['first_influence_matrices']\n",
    "                p = element['individual_performance_hardness_weighted']\n",
    "                A2 = np.row_stack([p, p, p, p])\n",
    "\n",
    "                pred_influence_matrix = A1 * W1 + A2 * W2 + B\n",
    "                loss = pred_influence_matrix - influence_matrix\n",
    "                losses += cp.sum_squares(loss)\n",
    "                constraints += [pred_influence_matrix >= 0]\n",
    "                constraints += [cp.sum_entries(pred_influence_matrix, axis=1) == 1]\n",
    "\n",
    "            regluarization = cp.norm1(W1) + cp.norm1(B)\n",
    "            objective = cp.Minimize(losses + lambdaa * regluarization)\n",
    "            prob = cp.Problem(objective, constraints)\n",
    "            result = prob.solve(solver=cp.MOSEK)\n",
    "            print('It was {} and result was {}'.format(prob.status, result))\n",
    "\n",
    "        model_err = 0\n",
    "        random_err = 0\n",
    "        uniform_err = 0\n",
    "        for index in range(len(X_test)):\n",
    "            element = X_test[index]\n",
    "            influence_matrix = utils.make_matrix_row_stochastic(\n",
    "                y_test[index]['influence_matrix'])\n",
    "\n",
    "            # Random model prediction:\n",
    "            pred_random_influence_matrix = np.matrix(utils.make_matrix_row_stochastic(\n",
    "                np.random.rand(4, 4)))\n",
    "            random_err += compute_matrix_err(\n",
    "                influence_matrix, pred_random_influence_matrix)\n",
    "\n",
    "            # Uniform prediction:\n",
    "            pred_uniform_influence_matrix = np.matrix(np.ones((4, 4)) * 0.25)\n",
    "            uniform_err += compute_matrix_err(\n",
    "                influence_matrix, pred_uniform_influence_matrix)\n",
    "\n",
    "            # Optimization model prediction:\n",
    "            A1 = element['first_influence_matrices']\n",
    "            p = element['individual_performance_hardness_weighted']\n",
    "            A2 = np.row_stack([p, p, p, p])\n",
    "\n",
    "            predicted_influence_matrix = A1 * W1.value + A2 * W2.value + B.value\n",
    "            predicted_influence_matrix = utils.make_matrix_row_stochastic(predicted_influence_matrix)\n",
    "            model_err += compute_matrix_err(\n",
    "                influence_matrix, predicted_influence_matrix)\n",
    "\n",
    "        model_err /= len(X_test)\n",
    "        random_err /= len(X_test)\n",
    "        uniform_err /= len(X_test)\n",
    "\n",
    "        model_errs.append(model_err)\n",
    "        random_errs.append(random_err)\n",
    "        uniform_errs.append(uniform_err)"
   ]
  },
  {
   "cell_type": "code",
   "execution_count": 195,
   "metadata": {},
   "outputs": [
    {
     "data": {
      "image/png": "[encoded data removed]",
      "text/plain": [
       "<matplotlib.figure.Figure at 0x7f39646c8518>"
      ]
     },
     "metadata": {
      "needs_background": "light"
     },
     "output_type": "display_data"
    }
   ],
   "source": [
    "sns.heatmap(W1.value);"
   ]
  },
  {
   "cell_type": "code",
   "execution_count": 196,
   "metadata": {},
   "outputs": [
    {
     "data": {
      "image/png": "[encoded data removed]",
      "text/plain": [
       "<matplotlib.figure.Figure at 0x7f3964832c18>"
      ]
     },
     "metadata": {
      "needs_background": "light"
     },
     "output_type": "display_data"
    }
   ],
   "source": [
    "sns.heatmap(W2.value);"
   ]
  },
  {
   "cell_type": "code",
   "execution_count": 197,
   "metadata": {},
   "outputs": [
    {
     "data": {
      "image/png": "[encoded data removed]",
      "text/plain": [
       "<matplotlib.figure.Figure at 0x7f3930e84ac8>"
      ]
     },
     "metadata": {
      "needs_background": "light"
     },
     "output_type": "display_data"
    }
   ],
   "source": [
    "sns.heatmap(B.value);"
   ]
  },
  {
   "cell_type": "code",
   "execution_count": 198,
   "metadata": {},
   "outputs": [
    {
     "name": "stdout",
     "output_type": "stream",
     "text": [
      "random: 0.627369947142661 +- 0.016018037218512353\n",
      "uniform: 0.33690498301216276 +- 0.020407942132259903\n",
      "model: 0.30886834958388787 +- 0.012053484282264085\n"
     ]
    },
    {
     "data": {
      "image/png": "[encoded data removed]",
      "text/plain": [
       "<matplotlib.figure.Figure at 0x7f3930ec35c0>"
      ]
     },
     "metadata": {
      "needs_background": "light"
     },
     "output_type": "display_data"
    }
   ],
   "source": [
    "# With dataset itself:\n",
    "plt.hist(model_errs)\n",
    "plt.hist(random_errs)\n",
    "plt.hist(uniform_errs)\n",
    "plt.legend(['model', 'random', 'uniform'])\n",
    "\n",
    "print('random: {} +- {}'.format(np.mean(random_errs), np.std(random_errs)))\n",
    "print('uniform: {} +- {}'.format(np.mean(uniform_errs), np.std(uniform_errs)))\n",
    "print('model: {} +- {}'.format(np.mean(model_errs), np.std(model_errs)));"
   ]
  },
  {
   "cell_type": "markdown",
   "metadata": {},
   "source": [
    "## With previous influence matrices and all networks"
   ]
  },
  {
   "cell_type": "code",
   "execution_count": 10,
   "metadata": {},
   "outputs": [
    {
     "name": "stdout",
     "output_type": "stream",
     "text": [
      "Lambda:  0 ...\n",
      "It was optimal and result was 774.3404126837133\n",
      "It took 11.16 seconds.\n",
      "It was optimal and result was 733.8603462826409\n",
      "It took 11.82 seconds.\n",
      "It was optimal and result was 788.1028787650718\n",
      "It took 11.75 seconds.\n",
      "It was optimal and result was 736.0690615283534\n",
      "It took 11.57 seconds.\n",
      "It was optimal and result was 715.7123595193837\n",
      "It took 11.19 seconds.\n",
      "Lambda:  0.01 ...\n",
      "It was optimal and result was 747.9594359099096\n",
      "It took 11.54 seconds.\n",
      "It was optimal and result was 788.3432709367187\n",
      "It took 11.46 seconds.\n",
      "It was optimal and result was 741.1242171097603\n",
      "It took 11.41 seconds.\n",
      "It was optimal and result was 757.9979489954235\n",
      "It took 10.76 seconds.\n",
      "It was optimal and result was 766.9347954951454\n",
      "It took 11.38 seconds.\n",
      "Lambda:  0.05 ...\n",
      "It was optimal and result was 754.5150471535087\n",
      "It took 11.42 seconds.\n",
      "It was optimal and result was 718.8985207087322\n",
      "It took 10.70 seconds.\n",
      "It was optimal and result was 764.655821458999\n",
      "It took 11.43 seconds.\n",
      "It was optimal and result was 729.433114557031\n",
      "It took 11.44 seconds.\n",
      "It was optimal and result was 747.1355538444998\n",
      "It took 10.69 seconds.\n",
      "Lambda:  0.1 ...\n",
      "It was optimal and result was 780.3855397113434\n",
      "It took 11.47 seconds.\n",
      "It was optimal and result was 744.3465598905598\n",
      "It took 10.77 seconds.\n",
      "It was optimal and result was 707.8173528251498\n",
      "It took 11.45 seconds.\n",
      "It was optimal and result was 760.5323557757036\n",
      "It took 11.50 seconds.\n",
      "It was optimal and result was 698.8604328906777\n",
      "It took 11.42 seconds.\n",
      "Lambda:  0.2 ...\n",
      "It was optimal and result was 742.8051779251919\n",
      "It took 11.40 seconds.\n",
      "It was optimal and result was 812.8182433210205\n",
      "It took 11.47 seconds.\n",
      "It was optimal and result was 727.8365542675168\n",
      "It took 11.57 seconds.\n",
      "It was optimal and result was 783.978409797797\n",
      "It took 11.63 seconds.\n",
      "It was optimal and result was 743.8274163665965\n",
      "It took 11.88 seconds.\n",
      "Lambda:  0.3 ...\n",
      "It was optimal and result was 750.7001480577869\n",
      "It took 10.98 seconds.\n",
      "It was optimal and result was 762.5470110463589\n",
      "It took 11.49 seconds.\n",
      "It was optimal and result was 732.7957413943552\n",
      "It took 11.51 seconds.\n",
      "It was optimal and result was 724.0146686508435\n",
      "It took 10.71 seconds.\n",
      "It was optimal and result was 758.4392252198018\n",
      "It took 11.51 seconds.\n",
      "Lambda:  0.5 ...\n",
      "It was optimal and result was 745.9530386158244\n",
      "It took 11.55 seconds.\n",
      "It was optimal and result was 749.4932095266579\n",
      "It took 11.58 seconds.\n",
      "It was optimal and result was 745.886671994994\n",
      "It took 11.56 seconds.\n",
      "It was optimal and result was 752.2375438674318\n",
      "It took 11.60 seconds.\n",
      "It was optimal and result was 751.5140408124373\n",
      "It took 11.52 seconds.\n",
      "Lambda:  0.9 ...\n",
      "It was optimal and result was 769.4464167527645\n",
      "It took 11.46 seconds.\n",
      "It was optimal and result was 811.4497485489461\n",
      "It took 11.46 seconds.\n",
      "It was optimal and result was 747.0041579524454\n",
      "It took 11.48 seconds.\n",
      "It was optimal and result was 759.0303017895524\n",
      "It took 10.84 seconds.\n",
      "It was optimal and result was 738.9388421385243\n",
      "It took 11.48 seconds.\n",
      "Lambda:  1 ...\n",
      "It was optimal and result was 792.2133033672101\n",
      "It took 11.50 seconds.\n",
      "It was optimal and result was 776.3577557210392\n",
      "It took 10.76 seconds.\n",
      "It was optimal and result was 724.4751766210976\n",
      "It took 11.53 seconds.\n",
      "It was optimal and result was 745.1067664398147\n",
      "It took 11.54 seconds.\n",
      "It was optimal and result was 740.321760922388\n",
      "It took 10.82 seconds.\n",
      "Lambda:  2 ...\n",
      "It was optimal and result was 717.3738198426445\n",
      "It took 11.58 seconds.\n",
      "It was optimal and result was 765.272250975244\n",
      "It took 11.53 seconds.\n",
      "It was optimal and result was 784.1285101572947\n",
      "It took 10.75 seconds.\n",
      "It was optimal and result was 708.1863219754589\n",
      "It took 11.53 seconds.\n",
      "It was optimal and result was 729.1254243296106\n",
      "It took 11.66 seconds.\n",
      "Lambda:  5 ...\n",
      "It was optimal and result was 782.7175182226383\n",
      "It took 10.79 seconds.\n",
      "It was optimal and result was 747.0870669173165\n",
      "It took 11.57 seconds.\n",
      "It was optimal and result was 802.8720239160169\n",
      "It took 11.89 seconds.\n",
      "It was optimal and result was 733.7255370412036\n",
      "It took 11.63 seconds.\n",
      "It was optimal and result was 783.4452515265397\n",
      "It took 11.56 seconds.\n",
      "Lambda:  10 ...\n",
      "It was optimal and result was 772.3098450162802\n",
      "It took 11.61 seconds.\n",
      "It was optimal and result was 781.8021233361128\n",
      "It took 11.63 seconds.\n",
      "It was optimal and result was 805.7658495899096\n",
      "It took 10.88 seconds.\n",
      "It was optimal and result was 796.7867972737399\n",
      "It took 11.68 seconds.\n",
      "It was optimal and result was 714.029032324917\n",
      "It took 11.64 seconds.\n",
      "Lambda:  100 ...\n",
      "It was optimal and result was 1118.5643932739533\n",
      "It took 10.85 seconds.\n",
      "It was optimal and result was 1148.1792333680837\n",
      "It took 11.67 seconds.\n",
      "It was optimal and result was 1156.323448464097\n",
      "It took 10.96 seconds.\n",
      "It was optimal and result was 1109.4133925953038\n",
      "It took 11.66 seconds.\n",
      "It was optimal and result was 1120.9761390966519\n",
      "It took 11.64 seconds.\n",
      "Lambda:  1000 ...\n",
      "It was optimal and result was 3903.0611679543536\n",
      "It took 10.85 seconds.\n",
      "It was optimal and result was 3988.252659800396\n",
      "It took 11.63 seconds.\n",
      "It was optimal and result was 3931.3490130239115\n",
      "It took 11.60 seconds.\n",
      "It was optimal and result was 3971.931711203616\n",
      "It took 10.92 seconds.\n",
      "It was optimal and result was 4003.666612848629\n",
      "It took 11.64 seconds.\n",
      "Lambda:  10000 ...\n",
      "It was optimal and result was 5970.158821542216\n",
      "It took 11.65 seconds.\n",
      "It was optimal and result was 6010.509246764144\n",
      "It took 10.84 seconds.\n",
      "It was optimal and result was 6023.0329797866725\n",
      "It took 11.68 seconds.\n",
      "It was optimal and result was 5997.547194740679\n",
      "It took 10.91 seconds.\n",
      "It was optimal and result was 6026.677235821191\n",
      "It took 11.71 seconds.\n",
      "It took 15.42 minutes.\n"
     ]
    }
   ],
   "source": [
    "with Timer():\n",
    "    runs = 5\n",
    "    lambdaas = [0, 0.01, 0.05, 0.1, 0.2, 0.3, 0.5, 0.9, 1, 2, 5, 10, 100, 1000, 10000]\n",
    "    model_errs = defaultdict(list)\n",
    "    for lambdaa in lambdaas:\n",
    "        print('Lambda: ', lambdaa, '...')\n",
    "        for run in range(runs):\n",
    "            X_train, X_test, y_train, y_test = train_test_split(\n",
    "                data['X'], data['y'], test_size=test_fraction)\n",
    "\n",
    "            X_train, y_train = utils.replicate_networks_in_train_dataset_with_reordering(\n",
    "                X_train, y_train)\n",
    "\n",
    "            # Solving the optimization problem.\n",
    "            with Timer():\n",
    "                W1 = cp.Variable(4, 4)\n",
    "                W2 = cp.Variable(4, 4)\n",
    "                W3 = cp.Variable(4, 4)\n",
    "                B = cp.Variable(4, 4)\n",
    "        #         constraints = []\n",
    "                losses = 0\n",
    "                for index in range(len(X_train)):\n",
    "                    element = X_train[index]\n",
    "                    influence_matrix = y_train[index]['influence_matrix']\n",
    "        #             A1 = element['average_of_previous_influence_matrices']\n",
    "                    A1 = element['first_influence_matrices']\n",
    "                    A2 = element['reply_duration']\n",
    "                    A3 = element['sentiment']\n",
    "        #             A4 = element['emotion_arousal']\n",
    "        #             A5 = element['emotion_dominance']\n",
    "        #             A6 = element['emotion_valence']\n",
    "                    pred_influence_matrix = A1 * W1 + A2 * W2 + A3 * W3 + B\n",
    "                    loss = pred_influence_matrix - influence_matrix\n",
    "                    losses += cp.sum_squares(loss)\n",
    "        #             constraints += [pred_influence_matrix >= 0]\n",
    "        #             constraints += [cp.sum_entries(pred_influence_matrix, axis=1) == 1]\n",
    "                regluarization = cp.norm1(W1) + cp.norm1(W2) + cp.norm1(W3) + cp.norm1(B)\n",
    "                objective = cp.Minimize(losses + lambdaa * regluarization)\n",
    "                prob = cp.Problem(objective)  #, constraints)\n",
    "                result = prob.solve(solver=cp.MOSEK)\n",
    "                print('It was {} and result was {}'.format(prob.status, result))\n",
    "\n",
    "            model_err = 0\n",
    "            for index in range(len(X_test)):\n",
    "                element = X_test[index]\n",
    "                influence_matrix = y_test[index]['influence_matrix']\n",
    "                # Optimization model prediction:\n",
    "                A1 = element['first_influence_matrices']\n",
    "                A2 = element['reply_duration']\n",
    "                A3 = element['sentiment']\n",
    "                predicted_influence_matrix = A1 * W1.value + A2 * W2.value + A3 * W3.value + B.value\n",
    "        #         predicted_influence_matrix = utils.make_matrix_row_stochastic(predicted_influence_matrix)  # << UNCOMMENT IT >>\n",
    "                model_err += compute_matrix_err(\n",
    "                    influence_matrix, predicted_influence_matrix)\n",
    "            model_err /= len(X_test)\n",
    "            model_errs[lambdaa].append(model_err)"
   ]
  },
  {
   "cell_type": "code",
   "execution_count": 11,
   "metadata": {},
   "outputs": [
    {
     "name": "stdout",
     "output_type": "stream",
     "text": [
      "0 :  0.3011743802652413 +- 0.020063083113073005\n",
      "0.01 :  0.2963133866176929 +- 0.015973161966079022\n",
      "0.05 :  0.3062668795795276 +- 0.013874774618744515\n",
      "0.1 :  0.3095999597617864 +- 0.017819090728314457\n",
      "0.2 :  0.2941185878549716 +- 0.02006738367903435\n",
      "0.3 :  0.30257457579288827 +- 0.013306889155314812\n",
      "0.5 :  0.3078848763423549 +- 0.005515771787705399\n",
      "0.9 :  0.29270645819532487 +- 0.01848981548039053\n",
      "1 :  0.30146502732172176 +- 0.015082943084012262\n",
      "2 :  0.30887201679195064 +- 0.020579339692010812\n",
      "5 :  0.30389845778067637 +- 0.014803297392890165\n",
      "10 :  0.3096589878225967 +- 0.01617236135673211\n",
      "100 :  0.3108994226093108 +- 0.015821189229998523\n",
      "1000 :  0.4881974650919253 +- 0.01133999614957398\n",
      "10000 :  0.9999999956332914 +- 3.214929424423093e-10\n"
     ]
    }
   ],
   "source": [
    "errz = []\n",
    "for lambdaa in lambdaas:\n",
    "    print(lambdaa, ': ', np.mean(model_errs[lambdaa]), '+-', np.std(model_errs[lambdaa]))\n",
    "    errz.append(np.mean(model_errs[lambdaa]))"
   ]
  },
  {
   "cell_type": "markdown",
   "metadata": {},
   "source": [
    "# Runs with tunned lambda"
   ]
  },
  {
   "cell_type": "code",
   "execution_count": 14,
   "metadata": {},
   "outputs": [
    {
     "name": "stdout",
     "output_type": "stream",
     "text": [
      "Run 0 ...\n",
      "It was optimal and result was 766.3251177128855\n",
      "It took 11.62 seconds.\n",
      "Run 1 ...\n",
      "It was optimal and result was 743.0657667529726\n",
      "It took 11.66 seconds.\n",
      "Run 2 ...\n",
      "It was optimal and result was 779.2827421108643\n",
      "It took 11.53 seconds.\n",
      "Run 3 ...\n",
      "It was optimal and result was 723.786987323808\n",
      "It took 11.65 seconds.\n",
      "Run 4 ...\n",
      "It was optimal and result was 764.0087611851684\n",
      "It took 11.66 seconds.\n",
      "Run 5 ...\n",
      "It was optimal and result was 778.6791052432029\n",
      "It took 10.83 seconds.\n",
      "Run 6 ...\n",
      "It was optimal and result was 742.7187675187304\n",
      "It took 11.65 seconds.\n",
      "Run 7 ...\n",
      "It was optimal and result was 764.5907057282249\n",
      "It took 11.61 seconds.\n",
      "Run 8 ...\n",
      "It was optimal and result was 755.3111138466536\n",
      "It took 10.99 seconds.\n",
      "Run 9 ...\n",
      "It was optimal and result was 730.3014073060064\n",
      "It took 11.67 seconds.\n",
      "Run 10 ...\n",
      "It was optimal and result was 795.3035946067316\n",
      "It took 10.83 seconds.\n",
      "Run 11 ...\n",
      "It was optimal and result was 758.2039140036177\n",
      "It took 11.83 seconds.\n",
      "Run 12 ...\n",
      "It was optimal and result was 770.9444454135639\n",
      "It took 11.63 seconds.\n",
      "Run 13 ...\n",
      "It was optimal and result was 773.2563472192965\n",
      "It took 10.92 seconds.\n",
      "Run 14 ...\n",
      "It was optimal and result was 749.4976318617153\n",
      "It took 11.60 seconds.\n",
      "Run 15 ...\n",
      "It was optimal and result was 774.7433262248478\n",
      "It took 11.62 seconds.\n",
      "Run 16 ...\n",
      "It was optimal and result was 754.93399345772\n",
      "It took 10.89 seconds.\n",
      "Run 17 ...\n",
      "It was optimal and result was 760.0634133797109\n",
      "It took 11.60 seconds.\n",
      "Run 18 ...\n",
      "It was optimal and result was 748.6097754645475\n",
      "It took 11.62 seconds.\n",
      "Run 19 ...\n",
      "It was optimal and result was 752.8143141451635\n",
      "It took 10.85 seconds.\n",
      "Run 20 ...\n",
      "It was optimal and result was 735.8652896510807\n",
      "It took 11.60 seconds.\n",
      "Run 21 ...\n",
      "It was optimal and result was 767.1861125440994\n",
      "It took 11.69 seconds.\n",
      "Run 22 ...\n",
      "It was optimal and result was 742.4511619971422\n",
      "It took 10.82 seconds.\n",
      "Run 23 ...\n",
      "It was optimal and result was 754.9500738515154\n",
      "It took 11.62 seconds.\n",
      "Run 24 ...\n",
      "It was optimal and result was 738.1951409074569\n",
      "It took 11.58 seconds.\n",
      "Run 25 ...\n",
      "It was optimal and result was 758.0566068534491\n",
      "It took 10.94 seconds.\n",
      "Run 26 ...\n",
      "It was optimal and result was 746.8298996275882\n",
      "It took 10.94 seconds.\n",
      "Run 27 ...\n",
      "It was optimal and result was 706.8421530703389\n",
      "It took 11.61 seconds.\n",
      "Run 28 ...\n",
      "It was optimal and result was 724.9209652785485\n",
      "It took 11.56 seconds.\n",
      "Run 29 ...\n",
      "It was optimal and result was 765.5597551771905\n",
      "It took 10.91 seconds.\n"
     ]
    }
   ],
   "source": [
    "lambdaa = 0.9\n",
    "runs = 30\n",
    "\n",
    "model_errs = []\n",
    "random_errs = []\n",
    "uniform_errs = []\n",
    "\n",
    "for run in range(runs):\n",
    "    print('Run', run, '...')\n",
    "    X_train, X_test, y_train, y_test = train_test_split(\n",
    "        data['X'], data['y'], test_size=test_fraction)\n",
    "    \n",
    "    X_train, y_train = utils.replicate_networks_in_train_dataset_with_reordering(\n",
    "        X_train, y_train)\n",
    "    \n",
    "    # Solving the optimization problem.\n",
    "    with Timer():\n",
    "        W1 = cp.Variable(4, 4)\n",
    "        W2 = cp.Variable(4, 4)\n",
    "        W3 = cp.Variable(4, 4)\n",
    "#         W4 = cp.Variable(4, 4)\n",
    "#         W5 = cp.Variable(4, 4)\n",
    "#         W6 = cp.Variable(4, 4)\n",
    "        B = cp.Variable(4, 4)\n",
    "\n",
    "#         constraints = []\n",
    "        losses = 0\n",
    "        for index in range(len(X_train)):\n",
    "            element = X_train[index]\n",
    "            influence_matrix = y_train[index]['influence_matrix']\n",
    "#             A1 = element['average_of_previous_influence_matrices']\n",
    "            A1 = element['first_influence_matrices']\n",
    "            A2 = element['reply_duration']\n",
    "            A3 = element['sentiment']\n",
    "#             A4 = element['emotion_arousal']\n",
    "#             A5 = element['emotion_dominance']\n",
    "#             A6 = element['emotion_valence']\n",
    "            pred_influence_matrix = A1 * W1 + A2 * W2 + A3 * W3 + B\n",
    "            loss = pred_influence_matrix - influence_matrix\n",
    "            losses += cp.sum_squares(loss)\n",
    "#             constraints += [pred_influence_matrix >= 0]\n",
    "#             constraints += [cp.sum_entries(pred_influence_matrix, axis=1) == 1]\n",
    "\n",
    "        regluarization = cp.norm1(W1) + cp.norm1(W2) + cp.norm1(W3) + cp.norm1(B)\n",
    "        objective = cp.Minimize(losses + lambdaa * regluarization)\n",
    "        prob = cp.Problem(objective)  #, constraints)\n",
    "        result = prob.solve(solver=cp.MOSEK)\n",
    "        print('It was {} and result was {}'.format(prob.status, result))\n",
    "\n",
    "    model_err = 0\n",
    "    random_err = 0\n",
    "    uniform_err = 0\n",
    "    for index in range(len(X_test)):\n",
    "        element = X_test[index]\n",
    "        influence_matrix = y_test[index]['influence_matrix']\n",
    "\n",
    "        # Random model prediction:\n",
    "        pred_random_influence_matrix = np.matrix(utils.make_matrix_row_stochastic(\n",
    "            np.random.rand(4, 4)))\n",
    "        random_err += compute_matrix_err(\n",
    "            influence_matrix, pred_random_influence_matrix)\n",
    "\n",
    "        # Uniform prediction:\n",
    "        pred_uniform_influence_matrix = np.matrix(np.ones((4, 4)) * 0.25)\n",
    "        uniform_err += compute_matrix_err(\n",
    "            influence_matrix, pred_uniform_influence_matrix)\n",
    "\n",
    "        # Optimization model prediction:\n",
    "#         A1 = element['average_of_previous_influence_matrices']\n",
    "        A1 = element['first_influence_matrices']\n",
    "        A2 = element['reply_duration']\n",
    "        A3 = element['sentiment']\n",
    "#         A4 = element['emotion_arousal']\n",
    "#         A5 = element['emotion_dominance']\n",
    "#         A6 = element['emotion_valence']\n",
    "        predicted_influence_matrix = A1 * W1.value + A2 * W2.value + A3 * W3.value + B.value\n",
    "#         predicted_influence_matrix = utils.make_matrix_row_stochastic(predicted_influence_matrix)  # << UNCOMMENT IT >>\n",
    "        model_err += compute_matrix_err(\n",
    "            influence_matrix, predicted_influence_matrix)\n",
    "    #     err += frob_norm_of_difference\n",
    "    model_err /= len(X_test)\n",
    "    random_err /= len(X_test)\n",
    "    uniform_err /= len(X_test)\n",
    "\n",
    "    model_errs.append(model_err)\n",
    "    random_errs.append(random_err)\n",
    "    uniform_errs.append(uniform_err)"
   ]
  },
  {
   "cell_type": "code",
   "execution_count": 15,
   "metadata": {},
   "outputs": [
    {
     "data": {
      "text/plain": [
       "1.0"
      ]
     },
     "execution_count": 15,
     "metadata": {},
     "output_type": "execute_result"
    }
   ],
   "source": [
    "sum(np.array(uniform_errs) > np.array(model_errs)) / len(model_errs)"
   ]
  },
  {
   "cell_type": "code",
   "execution_count": 16,
   "metadata": {},
   "outputs": [
    {
     "data": {
      "image/png": "[encoded data removed]",
      "text/plain": [
       "<matplotlib.figure.Figure at 0x7f3961a90eb8>"
      ]
     },
     "metadata": {
      "needs_background": "light"
     },
     "output_type": "display_data"
    }
   ],
   "source": [
    "plt.plot(np.array(uniform_errs) - np.array(model_errs), '*');"
   ]
  },
  {
   "cell_type": "code",
   "execution_count": 17,
   "metadata": {},
   "outputs": [
    {
     "data": {
      "image/png": "[encoded data removed]",
      "text/plain": [
       "<matplotlib.figure.Figure at 0x7f3960c76400>"
      ]
     },
     "metadata": {
      "needs_background": "light"
     },
     "output_type": "display_data"
    }
   ],
   "source": [
    "sns.heatmap(W1.value);"
   ]
  },
  {
   "cell_type": "code",
   "execution_count": 18,
   "metadata": {},
   "outputs": [
    {
     "data": {
      "image/png": "[encoded data removed]",
      "text/plain": [
       "<matplotlib.figure.Figure at 0x7f393ff649e8>"
      ]
     },
     "metadata": {
      "needs_background": "light"
     },
     "output_type": "display_data"
    }
   ],
   "source": [
    "sns.heatmap(W2.value);"
   ]
  },
  {
   "cell_type": "code",
   "execution_count": 19,
   "metadata": {},
   "outputs": [
    {
     "data": {
      "image/png": "[encoded data removed]",
      "text/plain": [
       "<matplotlib.figure.Figure at 0x7f3938177dd8>"
      ]
     },
     "metadata": {
      "needs_background": "light"
     },
     "output_type": "display_data"
    }
   ],
   "source": [
    "sns.heatmap(W3.value);"
   ]
  },
  {
   "cell_type": "code",
   "execution_count": 20,
   "metadata": {},
   "outputs": [
    {
     "data": {
      "image/png": "[encoded data removed]",
      "text/plain": [
       "<matplotlib.figure.Figure at 0x7f3940537240>"
      ]
     },
     "metadata": {
      "needs_background": "light"
     },
     "output_type": "display_data"
    }
   ],
   "source": [
    "sns.heatmap(B.value);"
   ]
  },
  {
   "cell_type": "code",
   "execution_count": 21,
   "metadata": {},
   "outputs": [
    {
     "name": "stdout",
     "output_type": "stream",
     "text": [
      "random: 0.6266067853224059 +- 0.018992084881276246\n",
      "uniform: 0.32490742121826355 +- 0.015290725245508025\n",
      "model: 0.30085401151907765 +- 0.014900643430244422\n"
     ]
    },
    {
     "data": {
      "image/png": "[encoded data removed]",
      "text/plain": [
       "<matplotlib.figure.Figure at 0x7f39381de390>"
      ]
     },
     "metadata": {
      "needs_background": "light"
     },
     "output_type": "display_data"
    }
   ],
   "source": [
    "plt.hist(model_errs)\n",
    "plt.hist(random_errs)\n",
    "plt.hist(uniform_errs)\n",
    "plt.legend(['model', 'random', 'uniform']);\n",
    "\n",
    "print('random: {} +- {}'.format(np.mean(random_errs), np.std(random_errs)))\n",
    "print('uniform: {} +- {}'.format(np.mean(uniform_errs), np.std(uniform_errs)))\n",
    "print('model: {} +- {}'.format(np.mean(model_errs), np.std(model_errs)));"
   ]
  },
  {
   "cell_type": "code",
   "execution_count": null,
   "metadata": {},
   "outputs": [],
   "source": []
  },
  {
   "cell_type": "code",
   "execution_count": 254,
   "metadata": {},
   "outputs": [
    {
     "name": "stdout",
     "output_type": "stream",
     "text": [
      "random: 0.6229028041996851 +- 0.016582563471854602\n",
      "uniform: 0.3334930767269019 +- 0.0188187862459938\n",
      "model: 0.30711267827334543 +- 0.015902166118144052\n"
     ]
    },
    {
     "data": {
      "image/png": "[encoded data removed]",
      "text/plain": [
       "<matplotlib.figure.Figure at 0x7fe54c102b00>"
      ]
     },
     "metadata": {
      "needs_background": "light"
     },
     "output_type": "display_data"
    }
   ],
   "source": [
    "# With the data itself:\n",
    "plt.hist(model_errs)\n",
    "plt.hist(random_errs)\n",
    "plt.hist(uniform_errs)\n",
    "plt.legend(['model', 'random', 'uniform']);\n",
    "\n",
    "print('random: {} +- {}'.format(np.mean(random_errs), np.std(random_errs)))\n",
    "print('uniform: {} +- {}'.format(np.mean(uniform_errs), np.std(uniform_errs)))\n",
    "print('model: {} +- {}'.format(np.mean(model_errs), np.std(model_errs)));"
   ]
  },
  {
   "cell_type": "code",
   "execution_count": null,
   "metadata": {},
   "outputs": [],
   "source": []
  },
  {
   "cell_type": "code",
   "execution_count": 33,
   "metadata": {},
   "outputs": [
    {
     "name": "stdout",
     "output_type": "stream",
     "text": [
      "random: 0.6256036346292906 +- 0.02295350141450487\n",
      "uniform: 0.33512193590092 +- 0.019971630246377763\n",
      "model: 0.2452193368273235 +- 0.014147432504710407\n"
     ]
    },
    {
     "data": {
      "image/png": "[encoded data removed]",
      "text/plain": [
       "<matplotlib.figure.Figure at 0x7fe54c23a358>"
      ]
     },
     "metadata": {
      "needs_background": "light"
     },
     "output_type": "display_data"
    }
   ],
   "source": [
    "# plt.hist(model_errs)\n",
    "# # plt.hist(random_errs)\n",
    "# plt.hist(uniform_errs)\n",
    "# # plt.legend(['model', 'random', 'uniform']);\n",
    "# plt.legend(['model', 'uniform'])\n",
    "\n",
    "# print('random: {} +- {}'.format(np.mean(random_errs), np.std(random_errs)))\n",
    "# print('uniform: {} +- {}'.format(np.mean(uniform_errs), np.std(uniform_errs)))\n",
    "# print('model: {} +- {}'.format(np.mean(model_errs), np.std(model_errs)));"
   ]
  },
  {
   "cell_type": "markdown",
   "metadata": {},
   "source": [
    "## With text embeddings and the first influence matrix:"
   ]
  },
  {
   "cell_type": "code",
   "execution_count": null,
   "metadata": {},
   "outputs": [
    {
     "name": "stdout",
     "output_type": "stream",
     "text": [
      "Lambda:  0 ...\n"
     ]
    }
   ],
   "source": [
    "# with Timer():\n",
    "#     runs = 5\n",
    "#     lambdaas = [0, 0.01, 0.05, 0.1, 0.2, 0.3, 0.5, 0.9, 1, 2, 5, 10, 100, 1000, 10000]\n",
    "#     model_errs = defaultdict(list)\n",
    "#     for lambdaa in lambdaas:\n",
    "#         print('Lambda: ', lambdaa, '...')\n",
    "#         for run in range(runs):\n",
    "#             X_train, X_test, y_train, y_test = train_test_split(\n",
    "#                 data['X'], data['y'], test_size=test_fraction)\n",
    "\n",
    "#             X_train, y_train = replicate_train_dataset(X_train, y_train)\n",
    "\n",
    "#             # Solving the optimization problem.\n",
    "#             with Timer():\n",
    "#                 W1 = cp.Variable(4, 4)\n",
    "#                 W2 = cp.Variable(768, 4)\n",
    "#                 B = cp.Variable(4, 4)\n",
    "\n",
    "#                 constraints = []\n",
    "#                 losses = 0\n",
    "#                 for index in range(len(X_train)):\n",
    "#                     element = X_train[index]\n",
    "#                     influence_matrix = y_train[index]['influence_matrix']\n",
    "#                     A1 = element['first_influence_matrices']\n",
    "#                     A2 = element['content_embedding_matrix']\n",
    "#                     pred_influence_matrix = A1 * W1 + A2 * W2 + B\n",
    "#                     loss = pred_influence_matrix - influence_matrix\n",
    "#                     losses += cp.sum_squares(loss)\n",
    "#                     constraints += [pred_influence_matrix >= 0]\n",
    "#                     constraints += [cp.sum_entries(pred_influence_matrix, axis=1) == 1]\n",
    "\n",
    "#                 regluarization = cp.norm1(W1) + cp.norm1(W2) + cp.norm1(B)\n",
    "#                 objective = cp.Minimize(losses + lambdaa * regluarization)\n",
    "#                 prob = cp.Problem(objective, constraints)\n",
    "#                 result = prob.solve(solver=cp.MOSEK)\n",
    "#                 print('It was {} and result was {}'.format(prob.status, result))\n",
    "\n",
    "#             model_err = 0\n",
    "#             for index in range(len(X_test)):\n",
    "#                 element = X_test[index]\n",
    "#                 influence_matrix = y_test[index]['influence_matrix']\n",
    "\n",
    "#                 # Optimization model prediction:\n",
    "#                 A1 = element['first_influence_matrices']\n",
    "#                 A2 = element['content_embedding_matrix']\n",
    "#                 predicted_influence_matrix = A1 * W1.value + A2 * W2.value + B.value\n",
    "#                 model_err += compute_matrix_err(\n",
    "#                     influence_matrix, predicted_influence_matrix)\n",
    "\n",
    "#             model_err /= len(X_test)\n",
    "#             model_errs[lambdaa].append(model_err)"
   ]
  },
  {
   "cell_type": "code",
   "execution_count": null,
   "metadata": {},
   "outputs": [],
   "source": [
    "# errz = []\n",
    "# for lambdaa in lambdaas:\n",
    "#     print(lambdaa, ': ', np.mean(model_errs[lambdaa]), '+-', np.std(model_errs[lambdaa]))\n",
    "#     errz.append(np.mean(model_errs[lambdaa]))"
   ]
  },
  {
   "cell_type": "markdown",
   "metadata": {},
   "source": [
    "# Runs"
   ]
  },
  {
   "cell_type": "code",
   "execution_count": 27,
   "metadata": {},
   "outputs": [],
   "source": [
    "lambdaa = 0.01\n",
    "runs = 30"
   ]
  },
  {
   "cell_type": "code",
   "execution_count": 28,
   "metadata": {},
   "outputs": [
    {
     "name": "stdout",
     "output_type": "stream",
     "text": [
      "Run 0 ...\n",
      "It was optimal and result was 738.0406802933157\n",
      "It took 3.19 minutes.\n",
      "Run 1 ...\n",
      "It was optimal and result was 751.5273380876821\n",
      "It took 3.36 minutes.\n",
      "Run 2 ...\n",
      "It was optimal and result was 732.8557502720626\n",
      "It took 3.33 minutes.\n",
      "Run 3 ...\n",
      "It was optimal and result was 758.8935324713053\n",
      "It took 3.05 minutes.\n",
      "Run 4 ...\n",
      "It was optimal and result was 714.6307155223619\n",
      "It took 3.38 minutes.\n",
      "Run 5 ...\n",
      "It was optimal and result was 796.9102394907536\n",
      "It took 3.43 minutes.\n",
      "Run 6 ...\n",
      "It was optimal and result was 720.9420644937247\n",
      "It took 3.47 minutes.\n",
      "Run 7 ...\n",
      "It was optimal and result was 753.1666222636954\n",
      "It took 3.46 minutes.\n",
      "Run 8 ...\n",
      "It was optimal and result was 761.0843990840033\n",
      "It took 3.40 minutes.\n",
      "Run 9 ...\n",
      "It was optimal and result was 749.0448410895319\n",
      "It took 3.12 minutes.\n",
      "Run 10 ...\n",
      "It was optimal and result was 769.1520877541689\n",
      "It took 2.92 minutes.\n",
      "Run 11 ...\n",
      "It was optimal and result was 739.5158216884324\n",
      "It took 3.37 minutes.\n",
      "Run 12 ...\n",
      "It was optimal and result was 798.406033191508\n",
      "It took 3.09 minutes.\n",
      "Run 13 ...\n",
      "It was optimal and result was 735.8668332963844\n",
      "It took 3.34 minutes.\n",
      "Run 14 ...\n",
      "It was optimal and result was 705.6350980226811\n",
      "It took 3.32 minutes.\n",
      "Run 15 ...\n",
      "It was optimal and result was 763.5296573587859\n",
      "It took 3.38 minutes.\n",
      "Run 16 ...\n",
      "It was optimal and result was 729.7028463239681\n",
      "It took 2.91 minutes.\n",
      "Run 17 ...\n",
      "It was optimal and result was 764.9603605663297\n",
      "It took 3.47 minutes.\n",
      "Run 18 ...\n",
      "It was optimal and result was 747.965877769683\n",
      "It took 2.98 minutes.\n",
      "Run 19 ...\n",
      "It took 3.66 minutes.\n"
     ]
    },
    {
     "ename": "KeyboardInterrupt",
     "evalue": "",
     "output_type": "error",
     "traceback": [
      "\u001b[0;31m---------------------------------------------------------------------------\u001b[0m",
      "\u001b[0;31mKeyboardInterrupt\u001b[0m                         Traceback (most recent call last)",
      "\u001b[0;32m<ipython-input-28-a1e37c4bb7ae>\u001b[0m in \u001b[0;36m<module>\u001b[0;34m()\u001b[0m\n\u001b[1;32m     32\u001b[0m         \u001b[0mobjective\u001b[0m \u001b[0;34m=\u001b[0m \u001b[0mcp\u001b[0m\u001b[0;34m.\u001b[0m\u001b[0mMinimize\u001b[0m\u001b[0;34m(\u001b[0m\u001b[0mlosses\u001b[0m \u001b[0;34m+\u001b[0m \u001b[0mlambdaa\u001b[0m \u001b[0;34m*\u001b[0m \u001b[0mregluarization\u001b[0m\u001b[0;34m)\u001b[0m\u001b[0;34m\u001b[0m\u001b[0m\n\u001b[1;32m     33\u001b[0m         \u001b[0mprob\u001b[0m \u001b[0;34m=\u001b[0m \u001b[0mcp\u001b[0m\u001b[0;34m.\u001b[0m\u001b[0mProblem\u001b[0m\u001b[0;34m(\u001b[0m\u001b[0mobjective\u001b[0m\u001b[0;34m)\u001b[0m \u001b[0;31m#, constraints)\u001b[0m\u001b[0;34m\u001b[0m\u001b[0m\n\u001b[0;32m---> 34\u001b[0;31m         \u001b[0mresult\u001b[0m \u001b[0;34m=\u001b[0m \u001b[0mprob\u001b[0m\u001b[0;34m.\u001b[0m\u001b[0msolve\u001b[0m\u001b[0;34m(\u001b[0m\u001b[0msolver\u001b[0m\u001b[0;34m=\u001b[0m\u001b[0mcp\u001b[0m\u001b[0;34m.\u001b[0m\u001b[0mMOSEK\u001b[0m\u001b[0;34m)\u001b[0m\u001b[0;34m\u001b[0m\u001b[0m\n\u001b[0m\u001b[1;32m     35\u001b[0m         \u001b[0mprint\u001b[0m\u001b[0;34m(\u001b[0m\u001b[0;34m'It was {} and result was {}'\u001b[0m\u001b[0;34m.\u001b[0m\u001b[0mformat\u001b[0m\u001b[0;34m(\u001b[0m\u001b[0mprob\u001b[0m\u001b[0;34m.\u001b[0m\u001b[0mstatus\u001b[0m\u001b[0;34m,\u001b[0m \u001b[0mresult\u001b[0m\u001b[0;34m)\u001b[0m\u001b[0;34m)\u001b[0m\u001b[0;34m\u001b[0m\u001b[0m\n\u001b[1;32m     36\u001b[0m \u001b[0;34m\u001b[0m\u001b[0m\n",
      "\u001b[0;32m/home/omid/.local/lib/python3.5/site-packages/cvxpy/problems/problem.py\u001b[0m in \u001b[0;36msolve\u001b[0;34m(self, *args, **kwargs)\u001b[0m\n\u001b[1;32m    207\u001b[0m             \u001b[0;32mreturn\u001b[0m \u001b[0mfunc\u001b[0m\u001b[0;34m(\u001b[0m\u001b[0mself\u001b[0m\u001b[0;34m,\u001b[0m \u001b[0;34m*\u001b[0m\u001b[0margs\u001b[0m\u001b[0;34m,\u001b[0m \u001b[0;34m**\u001b[0m\u001b[0mkwargs\u001b[0m\u001b[0;34m)\u001b[0m\u001b[0;34m\u001b[0m\u001b[0m\n\u001b[1;32m    208\u001b[0m         \u001b[0;32melse\u001b[0m\u001b[0;34m:\u001b[0m\u001b[0;34m\u001b[0m\u001b[0m\n\u001b[0;32m--> 209\u001b[0;31m             \u001b[0;32mreturn\u001b[0m \u001b[0mself\u001b[0m\u001b[0;34m.\u001b[0m\u001b[0m_solve\u001b[0m\u001b[0;34m(\u001b[0m\u001b[0;34m*\u001b[0m\u001b[0margs\u001b[0m\u001b[0;34m,\u001b[0m \u001b[0;34m**\u001b[0m\u001b[0mkwargs\u001b[0m\u001b[0;34m)\u001b[0m\u001b[0;34m\u001b[0m\u001b[0m\n\u001b[0m\u001b[1;32m    210\u001b[0m \u001b[0;34m\u001b[0m\u001b[0m\n\u001b[1;32m    211\u001b[0m     \u001b[0;34m@\u001b[0m\u001b[0mclassmethod\u001b[0m\u001b[0;34m\u001b[0m\u001b[0m\n",
      "\u001b[0;32m/home/omid/.local/lib/python3.5/site-packages/cvxpy/problems/problem.py\u001b[0m in \u001b[0;36m_solve\u001b[0;34m(self, solver, ignore_dcp, warm_start, verbose, parallel, **kwargs)\u001b[0m\n\u001b[1;32m    329\u001b[0m             results_dict = solver.solve(objective, constraints,\n\u001b[1;32m    330\u001b[0m                                         \u001b[0mself\u001b[0m\u001b[0;34m.\u001b[0m\u001b[0m_cached_data\u001b[0m\u001b[0;34m,\u001b[0m \u001b[0mwarm_start\u001b[0m\u001b[0;34m,\u001b[0m \u001b[0mverbose\u001b[0m\u001b[0;34m,\u001b[0m\u001b[0;34m\u001b[0m\u001b[0m\n\u001b[0;32m--> 331\u001b[0;31m                                         kwargs)\n\u001b[0m\u001b[1;32m    332\u001b[0m         \u001b[0;31m# Presolve determined problem was unbounded or infeasible.\u001b[0m\u001b[0;34m\u001b[0m\u001b[0;34m\u001b[0m\u001b[0m\n\u001b[1;32m    333\u001b[0m         \u001b[0;32melse\u001b[0m\u001b[0;34m:\u001b[0m\u001b[0;34m\u001b[0m\u001b[0m\n",
      "\u001b[0;32m/home/omid/.local/lib/python3.5/site-packages/cvxpy/problems/solvers/mosek_intf.py\u001b[0m in \u001b[0;36msolve\u001b[0;34m(self, objective, constraints, cached_data, warm_start, verbose, solver_opts)\u001b[0m\n\u001b[1;32m    237\u001b[0m                 \u001b[0;31m# solve\u001b[0m\u001b[0;34m\u001b[0m\u001b[0;34m\u001b[0m\u001b[0m\n\u001b[1;32m    238\u001b[0m                 \u001b[0mtask\u001b[0m\u001b[0;34m.\u001b[0m\u001b[0mputobjsense\u001b[0m\u001b[0;34m(\u001b[0m\u001b[0mmosek\u001b[0m\u001b[0;34m.\u001b[0m\u001b[0mobjsense\u001b[0m\u001b[0;34m.\u001b[0m\u001b[0mminimize\u001b[0m\u001b[0;34m)\u001b[0m\u001b[0;34m\u001b[0m\u001b[0m\n\u001b[0;32m--> 239\u001b[0;31m                 \u001b[0mtask\u001b[0m\u001b[0;34m.\u001b[0m\u001b[0moptimize\u001b[0m\u001b[0;34m(\u001b[0m\u001b[0;34m)\u001b[0m\u001b[0;34m\u001b[0m\u001b[0m\n\u001b[0m\u001b[1;32m    240\u001b[0m \u001b[0;34m\u001b[0m\u001b[0m\n\u001b[1;32m    241\u001b[0m                 \u001b[0;32mif\u001b[0m \u001b[0mverbose\u001b[0m\u001b[0;34m:\u001b[0m\u001b[0;34m\u001b[0m\u001b[0m\n",
      "\u001b[0;32m/home/omid/.local/lib/python3.5/site-packages/mosek/__init__.py\u001b[0m in \u001b[0;36moptimize\u001b[0;34m(self)\u001b[0m\n\u001b[1;32m   6914\u001b[0m         \u001b[0mtrmcode\u001b[0m\u001b[0;34m:\u001b[0m \u001b[0mmosek\u001b[0m\u001b[0;34m.\u001b[0m\u001b[0mrescode\u001b[0m\u001b[0;34m.\u001b[0m \u001b[0mIs\u001b[0m \u001b[0meither\u001b[0m \u001b[0mOK\u001b[0m \u001b[0;32mor\u001b[0m \u001b[0ma\u001b[0m \u001b[0mtermination\u001b[0m \u001b[0mresponse\u001b[0m \u001b[0mcode\u001b[0m\u001b[0;34m.\u001b[0m\u001b[0;34m\u001b[0m\u001b[0m\n\u001b[1;32m   6915\u001b[0m       \"\"\"\n\u001b[0;32m-> 6916\u001b[0;31m       \u001b[0mres\u001b[0m\u001b[0;34m,\u001b[0m\u001b[0mresargs\u001b[0m \u001b[0;34m=\u001b[0m \u001b[0mself\u001b[0m\u001b[0;34m.\u001b[0m\u001b[0m__obj\u001b[0m\u001b[0;34m.\u001b[0m\u001b[0moptimizetrm\u001b[0m\u001b[0;34m(\u001b[0m\u001b[0;34m)\u001b[0m\u001b[0;34m\u001b[0m\u001b[0m\n\u001b[0m\u001b[1;32m   6917\u001b[0m       \u001b[0;32mif\u001b[0m \u001b[0mres\u001b[0m \u001b[0;34m!=\u001b[0m \u001b[0;36m0\u001b[0m\u001b[0;34m:\u001b[0m\u001b[0;34m\u001b[0m\u001b[0m\n\u001b[1;32m   6918\u001b[0m         \u001b[0mresult\u001b[0m\u001b[0;34m,\u001b[0m\u001b[0mmsg\u001b[0m \u001b[0;34m=\u001b[0m \u001b[0mself\u001b[0m\u001b[0;34m.\u001b[0m\u001b[0m__getlasterror\u001b[0m\u001b[0;34m(\u001b[0m\u001b[0mres\u001b[0m\u001b[0;34m)\u001b[0m\u001b[0;34m\u001b[0m\u001b[0m\n",
      "\u001b[0;31mKeyboardInterrupt\u001b[0m: "
     ]
    }
   ],
   "source": [
    "model_errs = []\n",
    "random_errs = []\n",
    "uniform_errs = []\n",
    "\n",
    "for run in range(runs):\n",
    "    print('Run', run, '...')\n",
    "    X_train, X_test, y_train, y_test = train_test_split(\n",
    "        data['X'], data['y'], test_size=test_fraction)\n",
    "    \n",
    "    X_train, y_train = utils.replicate_networks_in_train_dataset_with_reordering(\n",
    "        X_train, y_train)\n",
    "    \n",
    "    # Solving the optimization problem.\n",
    "    with Timer():\n",
    "        W1 = cp.Variable(4, 4)\n",
    "        W2 = cp.Variable(768, 4)\n",
    "        B = cp.Variable(4, 4)\n",
    "\n",
    "#         constraints = []\n",
    "        losses = 0\n",
    "        for index in range(len(X_train)):\n",
    "            element = X_train[index]\n",
    "            influence_matrix = y_train[index]['influence_matrix']\n",
    "            A1 = element['first_influence_matrices']\n",
    "            A2 = element['content_embedding_matrix']\n",
    "            pred_influence_matrix = A1 * W1 + A2 * W2 + B\n",
    "            loss = pred_influence_matrix - influence_matrix\n",
    "            losses += cp.sum_squares(loss)\n",
    "#             constraints += [pred_influence_matrix >= 0]\n",
    "#             constraints += [cp.sum_entries(pred_influence_matrix, axis=1) == 1]\n",
    "\n",
    "        regluarization = cp.norm1(W1) + cp.norm1(W2) + cp.norm1(B)\n",
    "        objective = cp.Minimize(losses + lambdaa * regluarization)\n",
    "        prob = cp.Problem(objective) #, constraints)\n",
    "        result = prob.solve(solver=cp.MOSEK)\n",
    "        print('It was {} and result was {}'.format(prob.status, result))\n",
    "\n",
    "    model_err = 0\n",
    "    random_err = 0\n",
    "    uniform_err = 0\n",
    "    for index in range(len(X_test)):\n",
    "        element = X_test[index]\n",
    "        influence_matrix = y_test[index]['influence_matrix']\n",
    "\n",
    "        # Random model prediction:\n",
    "        pred_random_influence_matrix = np.matrix(utils.make_matrix_row_stochastic(\n",
    "            np.random.rand(4, 4)))\n",
    "        random_err += compute_matrix_err(\n",
    "            influence_matrix, pred_random_influence_matrix)\n",
    "\n",
    "        # Uniform prediction:\n",
    "        pred_uniform_influence_matrix = np.matrix(np.ones((4, 4)) * 0.25)\n",
    "        uniform_err += compute_matrix_err(\n",
    "            influence_matrix, pred_uniform_influence_matrix)\n",
    "\n",
    "        # Optimization model prediction:\n",
    "        A1 = element['first_influence_matrices']\n",
    "        A2 = element['content_embedding_matrix']\n",
    "        predicted_influence_matrix = A1 * W1.value + A2 * W2.value + B.value\n",
    "        model_err += compute_matrix_err(\n",
    "            influence_matrix, predicted_influence_matrix)\n",
    "\n",
    "    model_err /= len(X_test)\n",
    "    random_err /= len(X_test)\n",
    "    uniform_err /= len(X_test)\n",
    "\n",
    "    model_errs.append(model_err)\n",
    "    random_errs.append(random_err)\n",
    "    uniform_errs.append(uniform_err)"
   ]
  },
  {
   "cell_type": "code",
   "execution_count": 29,
   "metadata": {},
   "outputs": [
    {
     "name": "stdout",
     "output_type": "stream",
     "text": [
      "random: 0.6269796734190237 +- 0.01995421860943538\n",
      "uniform: 0.33240827017492997 +- 0.02336559677869273\n",
      "model: 0.3027936262918508 +- 0.015856241631805136\n"
     ]
    },
    {
     "data": {
      "image/png": "[encoded data removed]",
      "text/plain": [
       "<matplotlib.figure.Figure at 0x7fd00923fe10>"
      ]
     },
     "metadata": {
      "needs_background": "light"
     },
     "output_type": "display_data"
    }
   ],
   "source": [
    "plt.hist(model_errs)\n",
    "plt.hist(random_errs)\n",
    "plt.hist(uniform_errs)\n",
    "plt.legend(['model', 'random', 'uniform']);\n",
    "# plt.legend(['model', 'uniform'])\n",
    "\n",
    "print('random: {} +- {}'.format(np.mean(random_errs), np.std(random_errs)))\n",
    "print('uniform: {} +- {}'.format(np.mean(uniform_errs), np.std(uniform_errs)))\n",
    "print('model: {} +- {}'.format(np.mean(model_errs), np.std(model_errs)));"
   ]
  },
  {
   "cell_type": "code",
   "execution_count": null,
   "metadata": {},
   "outputs": [],
   "source": []
  }
 ],
 "metadata": {
  "kernelspec": {
   "display_name": "Python 3",
   "language": "python",
   "name": "python3"
  },
  "language_info": {
   "codemirror_mode": {
    "name": "ipython",
    "version": 3
   },
   "file_extension": ".py",
   "mimetype": "text/x-python",
   "name": "python",
   "nbconvert_exporter": "python",
   "pygments_lexer": "ipython3",
   "version": "3.5.2"
  }
 },
 "nbformat": 4,
 "nbformat_minor": 2
}
