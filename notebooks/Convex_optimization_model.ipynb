{
 "cells": [
  {
   "cell_type": "markdown",
   "metadata": {},
   "source": [
    "# ===========================================================\n",
    "# Generating a supervised dataset from the Jeopardy-like logs\n",
    "# ===========================================================\n",
    "\n",
    "Goals:\n",
    "1. Split the data into test and train\n",
    "2. Formulate the convex optimization model\n",
    "3. Compute train and test error"
   ]
  },
  {
   "cell_type": "markdown",
   "metadata": {},
   "source": [
    "#### Last update: 03 Dec 2019"
   ]
  },
  {
   "cell_type": "markdown",
   "metadata": {},
   "source": [
    "# Imports"
   ]
  },
  {
   "cell_type": "code",
   "execution_count": 471,
   "metadata": {},
   "outputs": [],
   "source": [
    "from __future__ import division, print_function, absolute_import, unicode_literals\n",
    "\n",
    "import cvxpy as cp\n",
    "import scipy as sp\n",
    "import pandas as pd\n",
    "import numpy as np\n",
    "import tensorflow as tf\n",
    "import matplotlib.pyplot as plt\n",
    "import seaborn as sns\n",
    "from collections import defaultdict\n",
    "import sys\n",
    "from sklearn.model_selection import KFold\n",
    "from sklearn.model_selection import train_test_split\n",
    "sys.path.insert(0, '../src/')\n",
    "%matplotlib inline\n",
    "\n",
    "import utils\n",
    "from mytimer import Timer"
   ]
  },
  {
   "cell_type": "markdown",
   "metadata": {},
   "source": [
    "# Parameters"
   ]
  },
  {
   "cell_type": "code",
   "execution_count": 472,
   "metadata": {},
   "outputs": [],
   "source": [
    "data_fpath = '/home/omid/Datasets/Jeopardy/supervised_data.pk'\n",
    "lambdaa = 0.1\n",
    "test_fraction = 0.2\n",
    "runs = 30"
   ]
  },
  {
   "cell_type": "markdown",
   "metadata": {},
   "source": [
    "# Helper functions"
   ]
  },
  {
   "cell_type": "code",
   "execution_count": 473,
   "metadata": {},
   "outputs": [],
   "source": [
    "def compute_matrix_err(true_matrix: np.matrix, pred_matrix: np.matrix, type_str: str = 'frob_norm') -> float:\n",
    "    if type_str == 'frob_norm':\n",
    "        frob_norm_of_difference = np.linalg.norm(true_matrix - pred_matrix)\n",
    "        err = frob_norm_of_difference / np.linalg.norm(true_matrix)\n",
    "        return err\n",
    "    elif type_str == 'corr':\n",
    "#         (r, p) = sp.stats.spearmanr(np.array(true_matrix.flatten())[0], np.array(pred_matrix.flatten())[0])\n",
    "        (r, p) = sp.stats.pearsonr(np.array(true_matrix.flatten())[0], np.array(pred_matrix.flatten())[0])\n",
    "        if p > 0.05:\n",
    "            r = 0\n",
    "        return r\n",
    "    else:\n",
    "        raise ValueError('Wrong type_str was given.')"
   ]
  },
  {
   "cell_type": "markdown",
   "metadata": {},
   "source": [
    "# Loading the data"
   ]
  },
  {
   "cell_type": "code",
   "execution_count": 474,
   "metadata": {},
   "outputs": [
    {
     "name": "stdout",
     "output_type": "stream",
     "text": [
      "337\n"
     ]
    }
   ],
   "source": [
    "data = utils.load_it(data_fpath)\n",
    "print(len(data['X']))"
   ]
  },
  {
   "cell_type": "code",
   "execution_count": 475,
   "metadata": {},
   "outputs": [],
   "source": [
    "mats = []\n",
    "for i in range(len(data['y'])):\n",
    "    mats.append(data['y'][i]['influence_matrix'] / 100)"
   ]
  },
  {
   "cell_type": "code",
   "execution_count": 476,
   "metadata": {},
   "outputs": [
    {
     "data": {
      "text/plain": [
       "array([[0.26338279, 0.24830861, 0.25548961, 0.23243323],\n",
       "       [0.2189911 , 0.33845697, 0.2158457 , 0.2227003 ],\n",
       "       [0.21379822, 0.2511276 , 0.30367953, 0.22474777],\n",
       "       [0.25338279, 0.24091988, 0.24379822, 0.26367953]])"
      ]
     },
     "execution_count": 476,
     "metadata": {},
     "output_type": "execute_result"
    }
   ],
   "source": [
    "np.mean(mats, axis=0)"
   ]
  },
  {
   "cell_type": "code",
   "execution_count": 477,
   "metadata": {},
   "outputs": [
    {
     "data": {
      "text/plain": [
       "array([[0.12754406, 0.08032826, 0.09008641, 0.07827526],\n",
       "       [0.10004831, 0.19647938, 0.08964129, 0.11201212],\n",
       "       [0.09734972, 0.12308318, 0.17451618, 0.10372017],\n",
       "       [0.0940633 , 0.06791981, 0.06305615, 0.09161002]])"
      ]
     },
     "execution_count": 477,
     "metadata": {},
     "output_type": "execute_result"
    }
   ],
   "source": [
    "np.std(mats, axis=0)"
   ]
  },
  {
   "cell_type": "markdown",
   "metadata": {},
   "source": [
    "# Formulating the convex optimization problem"
   ]
  },
  {
   "cell_type": "code",
   "execution_count": 478,
   "metadata": {},
   "outputs": [],
   "source": [
    "all_networks = True\n",
    "one_type_network = 'reply_duration'   # 'emotion_dominance'"
   ]
  },
  {
   "cell_type": "markdown",
   "metadata": {},
   "source": [
    "## Hyperparameter tuning"
   ]
  },
  {
   "cell_type": "code",
   "execution_count": 479,
   "metadata": {},
   "outputs": [
    {
     "name": "stdout",
     "output_type": "stream",
     "text": [
      "Lambda:  0 ...\n",
      "Lambda:  0.01 ...\n",
      "Lambda:  0.05 ...\n",
      "Lambda:  0.1 ...\n",
      "Lambda:  0.2 ...\n",
      "Lambda:  0.3 ...\n",
      "Lambda:  0.5 ...\n",
      "Lambda:  0.9 ...\n",
      "Lambda:  1 ...\n",
      "Lambda:  2 ...\n",
      "Lambda:  5 ...\n",
      "Lambda:  10 ...\n",
      "Lambda:  100 ...\n",
      "Lambda:  1000 ...\n",
      "Lambda:  10000 ...\n",
      "It took 10.03 minutes.\n"
     ]
    }
   ],
   "source": [
    "with Timer():\n",
    "    lambdaas = [0, 0.01, 0.05, 0.1, 0.2, 0.3, 0.5, 0.9, 1, 2, 5, 10, 100, 1000, 10000]\n",
    "    model_errs = defaultdict(list)\n",
    "\n",
    "    for lambdaa in lambdaas:\n",
    "        print('Lambda: ', lambdaa, '...')\n",
    "        for run in range(runs):\n",
    "            X_train, X_test, y_train, y_test = train_test_split(\n",
    "                data['X'], data['y'], test_size=test_fraction)\n",
    "\n",
    "            # Solving the optimization problem.\n",
    "            if all_networks:\n",
    "                W1 = cp.Variable(4, 4)\n",
    "                W2 = cp.Variable(4, 4)\n",
    "                W3 = cp.Variable(4, 4)\n",
    "                W4 = cp.Variable(4, 4)\n",
    "                W5 = cp.Variable(4, 4)\n",
    "            else:\n",
    "                W = cp.Variable(4, 4)\n",
    "            B = cp.Variable(4, 4)\n",
    "\n",
    "            constraints = []\n",
    "            losses = 0\n",
    "            for index in range(len(X_train)):\n",
    "                element = X_train[index]\n",
    "                influence_matrix = y_train[index]['influence_matrix'] / 100\n",
    "                if all_networks:\n",
    "                    A1 = element['reply_duration']\n",
    "                    A2 = element['sentiment']\n",
    "                    A3 = element['emotion_arousal']\n",
    "                    A4 = element['emotion_dominance']\n",
    "                    A5 = element['emotion_valence']\n",
    "                    pred_influence_matrix = A1 * W1 + A2 * W2 + A3 * W3 + A4 * W4 + A5 * W5 + B\n",
    "                else:\n",
    "                    A = element[one_type_network]\n",
    "                    D = np.diag(np.array(np.sum(A, axis=0))[0])\n",
    "                    L = D - A\n",
    "                    A = np.linalg.eig(L)[1]\n",
    "                    pred_influence_matrix = A * W + B\n",
    "                loss = pred_influence_matrix - influence_matrix\n",
    "                losses += cp.sum_squares(loss)\n",
    "                constraints += [pred_influence_matrix >= 0]\n",
    "                constraints += [cp.sum_entries(pred_influence_matrix, axis=1) == 1]\n",
    "\n",
    "            if all_networks:\n",
    "                regluarization = cp.norm1(W1) + cp.norm1(W2) + cp.norm1(W3) + cp.norm1(W4) + cp.norm1(W5) + cp.norm1(B)\n",
    "            else:\n",
    "                regluarization = cp.norm1(W) + cp.norm1(B)\n",
    "\n",
    "            objective = cp.Minimize(losses + lambdaa * regluarization)\n",
    "            prob = cp.Problem(objective, constraints)\n",
    "            result = prob.solve(solver=cp.MOSEK)\n",
    "\n",
    "            model_err = 0\n",
    "            for index in range(len(X_test)):\n",
    "                element = X_test[index]\n",
    "                influence_matrix = y_test[index]['influence_matrix'] / 100\n",
    "                # Optimization model prediction:\n",
    "                if all_networks:\n",
    "                    A1 = element['reply_duration']\n",
    "                    A2 = element['sentiment']\n",
    "                    A3 = element['emotion_arousal']\n",
    "                    A4 = element['emotion_dominance']\n",
    "                    A5 = element['emotion_valence']\n",
    "                    predicted_influence_matrix = (\n",
    "                        A1 * W1.value + A2 * W2.value + A3 * W3.value + A4 * W4.value + A5 * W5.value + B.value)\n",
    "                else:\n",
    "                    A = element[one_type_network]\n",
    "                    D = np.diag(np.array(np.sum(A, axis=0))[0])\n",
    "                    L = D - A\n",
    "                    A = np.linalg.eig(L)[1]\n",
    "                    predicted_influence_matrix = A * W.value + B.value\n",
    "\n",
    "                model_err += compute_matrix_err(\n",
    "                    influence_matrix, predicted_influence_matrix)\n",
    "\n",
    "            model_err /= len(X_test)\n",
    "            model_errs[lambdaa].append(model_err)"
   ]
  },
  {
   "cell_type": "code",
   "execution_count": 480,
   "metadata": {},
   "outputs": [
    {
     "name": "stdout",
     "output_type": "stream",
     "text": [
      "0 :  0.35608645871808486 +- 0.014620201341938461\n",
      "0.01 :  0.3525696031799746 +- 0.011546194321296523\n",
      "0.05 :  0.35785155088656234 +- 0.015976610117147984\n",
      "0.1 :  0.35342285937833506 +- 0.014037538899800191\n",
      "0.2 :  0.3503746350315483 +- 0.016777680793010556\n",
      "0.3 :  0.355095004110407 +- 0.013981513840232104\n",
      "0.5 :  0.35222848755710623 +- 0.01659744874979603\n",
      "0.9 :  0.3524225679032608 +- 0.016713885730504925\n",
      "1 :  0.34869908625814217 +- 0.015071770578701531\n",
      "2 :  0.34946528183077546 +- 0.015278765441915086\n",
      "5 :  0.347771733662158 +- 0.015323945622139727\n",
      "10 :  0.349564298708072 +- 0.016278216528879706\n",
      "100 :  0.35144890860441974 +- 0.01790923692654266\n",
      "1000 :  0.345987153576825 +- 0.015598480912615627\n",
      "10000 :  0.35229282318491634 +- 0.018514947623754975\n"
     ]
    }
   ],
   "source": [
    "errz = []\n",
    "for lambdaa in lambdaas:\n",
    "    print(lambdaa, ': ', np.mean(model_errs[lambdaa]), '+-', np.std(model_errs[lambdaa]))\n",
    "    errz.append(np.mean(model_errs[lambdaa]))"
   ]
  },
  {
   "cell_type": "code",
   "execution_count": 481,
   "metadata": {},
   "outputs": [
    {
     "data": {
      "image/png": "[encoded data removed]",
      "text/plain": [
       "<matplotlib.figure.Figure at 0x7f7bdfea9e48>"
      ]
     },
     "metadata": {
      "needs_background": "light"
     },
     "output_type": "display_data"
    }
   ],
   "source": [
    "plt.plot(errz);"
   ]
  },
  {
   "cell_type": "markdown",
   "metadata": {},
   "source": [
    "## Runs"
   ]
  },
  {
   "cell_type": "code",
   "execution_count": 482,
   "metadata": {},
   "outputs": [],
   "source": [
    "lambdaa = 1000"
   ]
  },
  {
   "cell_type": "code",
   "execution_count": 483,
   "metadata": {
    "scrolled": false
   },
   "outputs": [
    {
     "name": "stdout",
     "output_type": "stream",
     "text": [
      "Run 0 ...\n",
      "It was optimal and result was 4050.9757240486833\n",
      "It took 1.33 seconds.\n",
      "Run 1 ...\n",
      "It was optimal and result was 4053.1066016004847\n",
      "It took 1.40 seconds.\n",
      "Run 2 ...\n",
      "It was optimal and result was 4053.1591737505723\n",
      "It took 1.23 seconds.\n",
      "Run 3 ...\n",
      "It was optimal and result was 4055.067193366064\n",
      "It took 1.39 seconds.\n",
      "Run 4 ...\n",
      "It was optimal and result was 4053.784722134913\n",
      "It took 1.40 seconds.\n",
      "Run 5 ...\n",
      "It was optimal and result was 4051.4541362128857\n",
      "It took 1.23 seconds.\n",
      "Run 6 ...\n",
      "It was optimal and result was 4054.293284774624\n",
      "It took 1.38 seconds.\n",
      "Run 7 ...\n",
      "It was optimal and result was 4052.2668185440098\n",
      "It took 1.37 seconds.\n",
      "Run 8 ...\n",
      "It was optimal and result was 4052.21727014741\n",
      "It took 1.25 seconds.\n",
      "Run 9 ...\n",
      "It was optimal and result was 4051.9623384449005\n",
      "It took 1.38 seconds.\n",
      "Run 10 ...\n",
      "It was optimal and result was 4052.7345880959306\n",
      "It took 1.24 seconds.\n",
      "Run 11 ...\n",
      "It was optimal and result was 4055.238828529121\n",
      "It took 1.40 seconds.\n",
      "Run 12 ...\n",
      "It was optimal and result was 4054.1560813112014\n",
      "It took 1.40 seconds.\n",
      "Run 13 ...\n",
      "It was optimal and result was 4051.5078612083316\n",
      "It took 1.25 seconds.\n",
      "Run 14 ...\n",
      "It was optimal and result was 4053.861664077028\n",
      "It took 1.39 seconds.\n",
      "Run 15 ...\n",
      "It was optimal and result was 4052.973162157423\n",
      "It took 1.24 seconds.\n",
      "Run 16 ...\n",
      "It was optimal and result was 4051.0030758611206\n",
      "It took 1.41 seconds.\n",
      "Run 17 ...\n",
      "It was optimal and result was 4049.8291284692928\n",
      "It took 1.40 seconds.\n",
      "Run 18 ...\n",
      "It was optimal and result was 4054.6371758387477\n",
      "It took 1.24 seconds.\n",
      "Run 19 ...\n",
      "It was optimal and result was 4053.134707737005\n",
      "It took 1.39 seconds.\n",
      "Run 20 ...\n",
      "It was optimal and result was 4052.574485168048\n",
      "It took 1.25 seconds.\n",
      "Run 21 ...\n",
      "It was optimal and result was 4053.5672902510205\n",
      "It took 1.41 seconds.\n",
      "Run 22 ...\n",
      "It was optimal and result was 4051.6526457391337\n",
      "It took 1.40 seconds.\n",
      "Run 23 ...\n",
      "It was optimal and result was 4052.6514425336068\n",
      "It took 1.23 seconds.\n",
      "Run 24 ...\n",
      "It was optimal and result was 4053.5459049596657\n",
      "It took 1.43 seconds.\n",
      "Run 25 ...\n",
      "It was optimal and result was 4054.719682893929\n",
      "It took 1.24 seconds.\n",
      "Run 26 ...\n",
      "It was optimal and result was 4053.1520302616946\n",
      "It took 1.40 seconds.\n",
      "Run 27 ...\n",
      "It was optimal and result was 4052.9337430504797\n",
      "It took 1.40 seconds.\n",
      "Run 28 ...\n",
      "It was optimal and result was 4049.5936992285024\n",
      "It took 1.24 seconds.\n",
      "Run 29 ...\n",
      "It was optimal and result was 4051.38869926536\n",
      "It took 1.39 seconds.\n"
     ]
    }
   ],
   "source": [
    "model_errs = []\n",
    "random_errs = []\n",
    "uniform_errs = []\n",
    "\n",
    "for run in range(runs):\n",
    "    print('Run', run, '...')\n",
    "    X_train, X_test, y_train, y_test = train_test_split(\n",
    "        data['X'], data['y'], test_size=test_fraction)\n",
    "    \n",
    "    # Solving the optimization problem.\n",
    "    with Timer():\n",
    "        if all_networks:\n",
    "            W1 = cp.Variable(4, 4)\n",
    "            W2 = cp.Variable(4, 4)\n",
    "            W3 = cp.Variable(4, 4)\n",
    "            W4 = cp.Variable(4, 4)\n",
    "            W5 = cp.Variable(4, 4)\n",
    "        else:\n",
    "            W = cp.Variable(4, 4)\n",
    "        B = cp.Variable(4, 4)\n",
    "\n",
    "        constraints = []\n",
    "        losses = 0\n",
    "        for index in range(len(X_train)):\n",
    "            element = X_train[index]\n",
    "            influence_matrix = y_train[index]['influence_matrix'] / 100\n",
    "            if all_networks:\n",
    "                A1 = element['reply_duration']\n",
    "                A2 = element['sentiment']\n",
    "                A3 = element['emotion_arousal']\n",
    "                A4 = element['emotion_dominance']\n",
    "                A5 = element['emotion_valence']\n",
    "                pred_influence_matrix = A1 * W1 + A2 * W2 + A3 * W3 + A4 * W4 + A5 * W5 + B\n",
    "            else:\n",
    "                A = element[one_type_network]\n",
    "                D = np.diag(np.array(np.sum(A, axis=0))[0])\n",
    "                L = D - A\n",
    "                A = np.linalg.eig(L)[1]\n",
    "                pred_influence_matrix = A * W + B\n",
    "            loss = pred_influence_matrix - influence_matrix\n",
    "            losses += cp.sum_squares(loss)\n",
    "            constraints += [pred_influence_matrix >= 0]\n",
    "            constraints += [cp.sum_entries(pred_influence_matrix, axis=1) == 1]\n",
    "\n",
    "        if all_networks:\n",
    "            regluarization = cp.norm1(W1) + cp.norm1(W2) + cp.norm1(W3) + cp.norm1(W4) + cp.norm1(W5) + cp.norm1(B)\n",
    "        else:\n",
    "            regluarization = cp.norm1(W) + cp.norm1(B)\n",
    "\n",
    "        objective = cp.Minimize(losses + lambdaa * regluarization)\n",
    "        prob = cp.Problem(objective, constraints)\n",
    "        result = prob.solve(solver=cp.MOSEK)\n",
    "        print('It was {} and result was {}'.format(prob.status, result))\n",
    "\n",
    "    model_err = 0\n",
    "    random_err = 0\n",
    "    uniform_err = 0\n",
    "    for index in range(len(X_test)):\n",
    "        element = X_test[index]\n",
    "        influence_matrix = y_test[index]['influence_matrix'] / 100\n",
    "        \n",
    "        # Random model prediction:\n",
    "        pred_random_influence_matrix = np.matrix(utils.make_matrix_row_stochastic(\n",
    "            np.random.rand(4, 4)))\n",
    "        random_err += compute_matrix_err(\n",
    "            influence_matrix, pred_random_influence_matrix)\n",
    "        \n",
    "        # Uniform prediction:\n",
    "        pred_uniform_influence_matrix = np.matrix(np.ones((4, 4)) * 0.25)\n",
    "        uniform_err += compute_matrix_err(\n",
    "            influence_matrix, pred_uniform_influence_matrix)\n",
    "        \n",
    "        # Optimization model prediction:\n",
    "        if all_networks:\n",
    "            A1 = element['reply_duration']\n",
    "            A2 = element['sentiment']\n",
    "            A3 = element['emotion_arousal']\n",
    "            A4 = element['emotion_dominance']\n",
    "            A5 = element['emotion_valence']\n",
    "            predicted_influence_matrix = (\n",
    "                A1 * W1.value + A2 * W2.value + A3 * W3.value + A4 * W4.value + A5 * W5.value + B.value)\n",
    "        else:\n",
    "            A = element[one_type_network]\n",
    "            D = np.diag(np.array(np.sum(A, axis=0))[0])\n",
    "            L = D - A\n",
    "            A = np.linalg.eig(L)[1]\n",
    "            predicted_influence_matrix = A * W.value + B.value\n",
    "\n",
    "        model_err += compute_matrix_err(\n",
    "            influence_matrix, predicted_influence_matrix)\n",
    "    #     err += frob_norm_of_difference\n",
    "    model_err /= len(X_test)\n",
    "    random_err /= len(X_test)\n",
    "    uniform_err /= len(X_test)\n",
    "\n",
    "    model_errs.append(model_err)\n",
    "    random_errs.append(random_err)\n",
    "    uniform_errs.append(uniform_err)"
   ]
  },
  {
   "cell_type": "code",
   "execution_count": 484,
   "metadata": {},
   "outputs": [
    {
     "name": "stdout",
     "output_type": "stream",
     "text": [
      "random: 0.6385164146806789 +- 0.017046211137448752\n",
      "uniform: 0.3536428640770363 +- 0.017370555497499492\n",
      "model: 0.3535997550734507 +- 0.014817478563183436\n"
     ]
    },
    {
     "data": {
      "image/png": "[encoded data removed]",
      "text/plain": [
       "<matplotlib.figure.Figure at 0x7f7bdf4845f8>"
      ]
     },
     "metadata": {
      "needs_background": "light"
     },
     "output_type": "display_data"
    }
   ],
   "source": [
    "plt.hist(model_errs)\n",
    "# plt.hist(random_errs)\n",
    "plt.hist(uniform_errs)\n",
    "# plt.legend(['model', 'random', 'uniform']);\n",
    "plt.legend(['model', 'uniform'])\n",
    "\n",
    "print('random: {} +- {}'.format(np.mean(random_errs), np.std(random_errs)))\n",
    "print('uniform: {} +- {}'.format(np.mean(uniform_errs), np.std(uniform_errs)))\n",
    "print('model: {} +- {}'.format(np.mean(model_errs), np.std(model_errs)));"
   ]
  },
  {
   "cell_type": "code",
   "execution_count": null,
   "metadata": {},
   "outputs": [],
   "source": []
  },
  {
   "cell_type": "code",
   "execution_count": 140,
   "metadata": {},
   "outputs": [
    {
     "name": "stdout",
     "output_type": "stream",
     "text": [
      "It took 0.77 seconds.\n"
     ]
    }
   ],
   "source": [
    "# # with Timer():\n",
    "# #     W = cp.Variable(4, 4)\n",
    "# #     B = cp.Variable(4, 4)\n",
    "\n",
    "# #     lambdaa = 0.1\n",
    "\n",
    "# #     constraints = []\n",
    "# #     losses = 0\n",
    "# #     for index in range(len(X_train)):\n",
    "# #         element = X_train[index]\n",
    "# #         influence_matrix = y_train[index]['influence_matrix'] / 100\n",
    "# #         A = element['reply_duration']\n",
    "# #         pred_influence_matrix = A * W + B\n",
    "# #         loss = pred_influence_matrix - influence_matrix\n",
    "# #     #     losses += cp.norm(loss, p=2)\n",
    "# #         losses += cp.sum_squares(loss)\n",
    "# #         constraints += [cp.sum_entries(pred_influence_matrix, axis=1) == 1]\n",
    "\n",
    "# #     # regluarization = 0\n",
    "# #     regluarization = cp.norm1(W) + cp.norm1(B)\n",
    "\n",
    "# #     objective = cp.Minimize(losses + lambdaa * regluarization)\n",
    "# #     prob = cp.Problem(objective, constraints)\n",
    "# #     result = prob.solve(solver=cp.MOSEK)"
   ]
  },
  {
   "cell_type": "code",
   "execution_count": 167,
   "metadata": {},
   "outputs": [
    {
     "data": {
      "text/plain": [
       "54.81053743316319"
      ]
     },
     "execution_count": 167,
     "metadata": {},
     "output_type": "execute_result"
    }
   ],
   "source": [
    "# result"
   ]
  },
  {
   "cell_type": "code",
   "execution_count": 172,
   "metadata": {},
   "outputs": [],
   "source": [
    "# err = 0\n",
    "# for index in range(len(X_test)):\n",
    "#     element = X_test[index]\n",
    "#     influence_matrix = y_test[index]['influence_matrix'] / 100\n",
    "#     A1 = element['reply_duration']\n",
    "#     A2 = element['sentiment']\n",
    "#     A3 = element['emotion_arousal']\n",
    "#     A4 = element['emotion_dominance']\n",
    "#     A5 = element['emotion_valence']\n",
    "#     predicted_influence_matrix = (\n",
    "#         A1 * W1.value + A2 * W2.value + A3 * W3.value + A4 * W4.value + A5 * W5.value + B.value)\n",
    "#     frob_norm_of_difference = np.linalg.norm(predicted_influence_matrix - influence_matrix)\n",
    "#     err += frob_norm_of_difference / np.linalg.norm(influence_matrix)\n",
    "# #     err += frob_norm_of_difference\n",
    "# err /= len(X_test)"
   ]
  },
  {
   "cell_type": "code",
   "execution_count": 173,
   "metadata": {},
   "outputs": [
    {
     "data": {
      "text/plain": [
       "0.3401045431792546"
      ]
     },
     "execution_count": 173,
     "metadata": {},
     "output_type": "execute_result"
    }
   ],
   "source": [
    "# err"
   ]
  }
 ],
 "metadata": {
  "kernelspec": {
   "display_name": "Python 3",
   "language": "python",
   "name": "python3"
  },
  "language_info": {
   "codemirror_mode": {
    "name": "ipython",
    "version": 3
   },
   "file_extension": ".py",
   "mimetype": "text/x-python",
   "name": "python",
   "nbconvert_exporter": "python",
   "pygments_lexer": "ipython3",
   "version": "3.5.2"
  }
 },
 "nbformat": 4,
 "nbformat_minor": 2
}
