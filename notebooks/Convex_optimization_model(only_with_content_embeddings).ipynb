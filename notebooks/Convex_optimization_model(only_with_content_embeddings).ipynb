{
 "cells": [
  {
   "cell_type": "markdown",
   "metadata": {},
   "source": [
    "# ===========================================================\n",
    "# Solve the estimation problem using supervised dataset from the Jeopardy-like logs (ONLY WITH CONTENTS)\n",
    "# ===========================================================\n",
    "\n",
    "Goals:\n",
    "1. Split the data into test and train\n",
    "2. Formulate the convex optimization model\n",
    "3. Compute train and test error"
   ]
  },
  {
   "cell_type": "markdown",
   "metadata": {},
   "source": [
    "#### Last update: 04 Dec 2019"
   ]
  },
  {
   "cell_type": "markdown",
   "metadata": {},
   "source": [
    "# Imports"
   ]
  },
  {
   "cell_type": "code",
   "execution_count": 2,
   "metadata": {},
   "outputs": [],
   "source": [
    "from __future__ import division, print_function, absolute_import, unicode_literals\n",
    "\n",
    "import cvxpy as cp\n",
    "import scipy as sp\n",
    "import pandas as pd\n",
    "import numpy as np\n",
    "import tensorflow as tf\n",
    "import matplotlib.pyplot as plt\n",
    "import seaborn as sns\n",
    "from collections import defaultdict\n",
    "import sys\n",
    "from sklearn.model_selection import KFold\n",
    "from sklearn.model_selection import train_test_split\n",
    "sys.path.insert(0, '../src/')\n",
    "%matplotlib inline\n",
    "\n",
    "import utils\n",
    "from mytimer import Timer"
   ]
  },
  {
   "cell_type": "markdown",
   "metadata": {},
   "source": [
    "# Parameters"
   ]
  },
  {
   "cell_type": "code",
   "execution_count": 64,
   "metadata": {},
   "outputs": [],
   "source": [
    "data_fpath = '/home/omid/Datasets/Jeopardy/supervised_data.pk'\n",
    "lambdaa = 1\n",
    "test_fraction = 0.2\n",
    "runs = 30"
   ]
  },
  {
   "cell_type": "markdown",
   "metadata": {},
   "source": [
    "# Helper functions"
   ]
  },
  {
   "cell_type": "code",
   "execution_count": 51,
   "metadata": {},
   "outputs": [],
   "source": [
    "def compute_matrix_err(true_matrix: np.matrix, pred_matrix: np.matrix, type_str: str = 'frob_norm') -> float:\n",
    "    if type_str == 'frob_norm':\n",
    "        frob_norm_of_difference = np.linalg.norm(true_matrix - pred_matrix)\n",
    "        err = frob_norm_of_difference / np.linalg.norm(true_matrix)\n",
    "        return err\n",
    "    elif type_str == 'corr':\n",
    "#         (r, p) = sp.stats.spearmanr(np.array(true_matrix.flatten())[0], np.array(pred_matrix.flatten())[0])\n",
    "        (r, p) = sp.stats.pearsonr(np.array(true_matrix.flatten())[0], np.array(pred_matrix.flatten())[0])\n",
    "        if p > 0.05:\n",
    "            r = 0\n",
    "        return r\n",
    "    else:\n",
    "        raise ValueError('Wrong type_str was given.')"
   ]
  },
  {
   "cell_type": "markdown",
   "metadata": {},
   "source": [
    "# Loading the data"
   ]
  },
  {
   "cell_type": "code",
   "execution_count": 52,
   "metadata": {
    "scrolled": true
   },
   "outputs": [
    {
     "name": "stdout",
     "output_type": "stream",
     "text": [
      "337\n"
     ]
    }
   ],
   "source": [
    "data = utils.load_it(data_fpath)\n",
    "print(len(data['X']))"
   ]
  },
  {
   "cell_type": "code",
   "execution_count": 53,
   "metadata": {},
   "outputs": [],
   "source": [
    "mats = []\n",
    "for i in range(len(data['y'])):\n",
    "    mats.append(data['y'][i]['influence_matrix'] / 100)"
   ]
  },
  {
   "cell_type": "code",
   "execution_count": 54,
   "metadata": {},
   "outputs": [
    {
     "data": {
      "text/plain": [
       "array([[0.26338279, 0.24830861, 0.25548961, 0.23243323],\n",
       "       [0.2189911 , 0.33845697, 0.2158457 , 0.2227003 ],\n",
       "       [0.21379822, 0.2511276 , 0.30367953, 0.22474777],\n",
       "       [0.25338279, 0.24091988, 0.24379822, 0.26367953]])"
      ]
     },
     "execution_count": 54,
     "metadata": {},
     "output_type": "execute_result"
    }
   ],
   "source": [
    "np.mean(mats, axis=0)"
   ]
  },
  {
   "cell_type": "code",
   "execution_count": 55,
   "metadata": {},
   "outputs": [
    {
     "data": {
      "text/plain": [
       "array([[0.12754406, 0.08032826, 0.09008641, 0.07827526],\n",
       "       [0.10004831, 0.19647938, 0.08964129, 0.11201212],\n",
       "       [0.09734972, 0.12308318, 0.17451618, 0.10372017],\n",
       "       [0.0940633 , 0.06791981, 0.06305615, 0.09161002]])"
      ]
     },
     "execution_count": 55,
     "metadata": {},
     "output_type": "execute_result"
    }
   ],
   "source": [
    "np.std(mats, axis=0)"
   ]
  },
  {
   "cell_type": "markdown",
   "metadata": {},
   "source": [
    "# Formulating the convex optimization problem"
   ]
  },
  {
   "cell_type": "markdown",
   "metadata": {},
   "source": [
    "## Hyperparameter tuning"
   ]
  },
  {
   "cell_type": "code",
   "execution_count": 58,
   "metadata": {},
   "outputs": [
    {
     "name": "stdout",
     "output_type": "stream",
     "text": [
      "Lambda:  0 ...\n",
      "Lambda:  0.01 ...\n",
      "Lambda:  0.05 ...\n",
      "Lambda:  0.1 ...\n",
      "Lambda:  0.2 ...\n",
      "Lambda:  0.3 ...\n",
      "Lambda:  0.5 ...\n",
      "Lambda:  0.9 ...\n",
      "Lambda:  1 ...\n",
      "Lambda:  2 ...\n",
      "Lambda:  5 ...\n",
      "Lambda:  10 ...\n",
      "Lambda:  100 ...\n",
      "Lambda:  1000 ...\n",
      "Lambda:  10000 ...\n",
      "It took 23.24 minutes.\n"
     ]
    }
   ],
   "source": [
    "with Timer():\n",
    "    lambdaas = [0, 0.01, 0.05, 0.1, 0.2, 0.3, 0.5, 0.9, 1, 2, 5, 10, 100, 1000, 10000]\n",
    "    model_errs = defaultdict(list)\n",
    "\n",
    "    for lambdaa in lambdaas:\n",
    "        print('Lambda: ', lambdaa, '...')\n",
    "        for run in range(4):\n",
    "            X_train, X_test, y_train, y_test = train_test_split(\n",
    "                data['X'], data['y'], test_size=test_fraction)\n",
    "            \n",
    "            # Solving the optimization problem.\n",
    "            W = cp.Variable(768, 4)\n",
    "            B = cp.Variable(4, 4)\n",
    "\n",
    "            constraints = []\n",
    "            losses = 0\n",
    "            for index in range(len(X_train)):\n",
    "                element = X_train[index]\n",
    "                influence_matrix = y_train[index]['influence_matrix'] / 100\n",
    "                C = element['content_embedding_matrix']\n",
    "                pred_influence_matrix = C * W + B\n",
    "                loss = pred_influence_matrix - influence_matrix\n",
    "                losses += cp.sum_squares(loss)\n",
    "                constraints += [pred_influence_matrix >= 0]\n",
    "                constraints += [cp.sum_entries(pred_influence_matrix, axis=1) == 1]\n",
    "\n",
    "            regluarization = cp.norm1(W) + cp.norm1(B)\n",
    "\n",
    "            objective = cp.Minimize(losses + lambdaa * regluarization)\n",
    "            prob = cp.Problem(objective, constraints)\n",
    "            result = prob.solve(solver=cp.MOSEK)\n",
    "\n",
    "        model_err = 0\n",
    "        for index in range(len(X_test)):\n",
    "            element = X_test[index]\n",
    "            influence_matrix = y_test[index]['influence_matrix'] / 100\n",
    "\n",
    "            # Optimization model prediction:\n",
    "            C = element['content_embedding_matrix']\n",
    "            predicted_influence_matrix = C * W.value + B.value\n",
    "\n",
    "            model_err += compute_matrix_err(\n",
    "                influence_matrix, predicted_influence_matrix)\n",
    "            \n",
    "        model_err /= len(X_test)\n",
    "        model_errs[lambdaa].append(model_err)"
   ]
  },
  {
   "cell_type": "code",
   "execution_count": 59,
   "metadata": {},
   "outputs": [
    {
     "name": "stdout",
     "output_type": "stream",
     "text": [
      "0 :  0.8271866339209893 +- 0.0\n",
      "0.01 :  0.7850801075307889 +- 0.0\n",
      "0.05 :  0.5983022266780759 +- 0.0\n",
      "0.1 :  0.5385769342940921 +- 0.0\n",
      "0.2 :  0.45267378529137725 +- 0.0\n",
      "0.3 :  0.4298339446863062 +- 0.0\n",
      "0.5 :  0.41614117793267436 +- 0.0\n",
      "0.9 :  0.3761799449240127 +- 0.0\n",
      "1 :  0.37044330450077384 +- 0.0\n",
      "2 :  0.3548114815929205 +- 0.0\n",
      "5 :  0.35259483777143585 +- 0.0\n",
      "10 :  0.36065568823549926 +- 0.0\n",
      "100 :  0.3547168535122731 +- 0.0\n",
      "1000 :  0.36108425209498596 +- 0.0\n",
      "10000 :  0.37802276268461654 +- 0.0\n"
     ]
    }
   ],
   "source": [
    "errz = []\n",
    "for lambdaa in lambdaas:\n",
    "    print(lambdaa, ': ', np.mean(model_errs[lambdaa]), '+-', np.std(model_errs[lambdaa]))\n",
    "    errz.append(np.mean(model_errs[lambdaa]))"
   ]
  },
  {
   "cell_type": "code",
   "execution_count": 60,
   "metadata": {},
   "outputs": [
    {
     "data": {
      "image/png": "[encoded data removed]",
      "text/plain": [
       "<matplotlib.figure.Figure at 0x7f730b910e10>"
      ]
     },
     "metadata": {
      "needs_background": "light"
     },
     "output_type": "display_data"
    }
   ],
   "source": [
    "plt.plot(errz);"
   ]
  },
  {
   "cell_type": "markdown",
   "metadata": {},
   "source": [
    "## Runs"
   ]
  },
  {
   "cell_type": "code",
   "execution_count": 65,
   "metadata": {},
   "outputs": [],
   "source": [
    "lambdaa = 100"
   ]
  },
  {
   "cell_type": "code",
   "execution_count": 66,
   "metadata": {
    "scrolled": false
   },
   "outputs": [
    {
     "name": "stdout",
     "output_type": "stream",
     "text": [
      "Run 0 ...\n",
      "It was optimal and result was 451.0076266644446\n",
      "It took 17.54 seconds.\n",
      "Run 1 ...\n",
      "It was optimal and result was 452.0530369075709\n",
      "It took 16.65 seconds.\n",
      "Run 2 ...\n",
      "It was optimal and result was 452.6478347188248\n",
      "It took 17.48 seconds.\n",
      "Run 3 ...\n",
      "It was optimal and result was 453.0588971013281\n",
      "It took 17.01 seconds.\n",
      "Run 4 ...\n",
      "It was optimal and result was 452.35257028818853\n",
      "It took 17.29 seconds.\n",
      "Run 5 ...\n",
      "It was optimal and result was 453.50017087040135\n",
      "It took 16.63 seconds.\n",
      "Run 6 ...\n",
      "It was optimal and result was 453.5624950460066\n",
      "It took 17.23 seconds.\n",
      "Run 7 ...\n",
      "It was optimal and result was 453.8213089517982\n",
      "It took 17.31 seconds.\n",
      "Run 8 ...\n",
      "It was optimal and result was 449.5863987775196\n",
      "It took 17.02 seconds.\n",
      "Run 9 ...\n",
      "It was optimal and result was 453.02481453023165\n",
      "It took 17.41 seconds.\n",
      "Run 10 ...\n",
      "It was optimal and result was 454.2242031581379\n",
      "It took 17.28 seconds.\n",
      "Run 11 ...\n",
      "It was optimal and result was 451.74996773595865\n",
      "It took 17.54 seconds.\n",
      "Run 12 ...\n",
      "It was optimal and result was 456.8947744908685\n",
      "It took 17.43 seconds.\n",
      "Run 13 ...\n",
      "It was optimal and result was 454.8015582078067\n",
      "It took 17.57 seconds.\n",
      "Run 14 ...\n",
      "It was optimal and result was 454.4045387392414\n",
      "It took 16.97 seconds.\n",
      "Run 15 ...\n",
      "It was optimal and result was 454.43350676715886\n",
      "It took 17.33 seconds.\n",
      "Run 16 ...\n",
      "It was optimal and result was 451.9666901605474\n",
      "It took 17.15 seconds.\n",
      "Run 17 ...\n",
      "It was optimal and result was 452.88983450907193\n",
      "It took 17.60 seconds.\n",
      "Run 18 ...\n",
      "It was optimal and result was 452.9732818630222\n",
      "It took 16.98 seconds.\n",
      "Run 19 ...\n",
      "It was optimal and result was 453.9093742021501\n",
      "It took 17.17 seconds.\n",
      "Run 20 ...\n",
      "It was optimal and result was 451.98712801325996\n",
      "It took 16.92 seconds.\n",
      "Run 21 ...\n",
      "It was optimal and result was 452.7453489900133\n",
      "It took 18.03 seconds.\n",
      "Run 22 ...\n",
      "It was optimal and result was 453.9024732046658\n",
      "It took 17.01 seconds.\n",
      "Run 23 ...\n",
      "It was optimal and result was 450.52381626775525\n",
      "It took 17.74 seconds.\n",
      "Run 24 ...\n",
      "It was optimal and result was 453.2054812275878\n",
      "It took 17.67 seconds.\n",
      "Run 25 ...\n",
      "It was optimal and result was 454.98284563225434\n",
      "It took 17.16 seconds.\n",
      "Run 26 ...\n",
      "It was optimal and result was 452.83089833351784\n",
      "It took 17.08 seconds.\n",
      "Run 27 ...\n",
      "It was optimal and result was 455.10994166344454\n",
      "It took 16.87 seconds.\n",
      "Run 28 ...\n",
      "It was optimal and result was 454.72873160649544\n",
      "It took 17.25 seconds.\n",
      "Run 29 ...\n",
      "It was optimal and result was 453.05039098525106\n",
      "It took 17.08 seconds.\n"
     ]
    }
   ],
   "source": [
    "model_errs = []\n",
    "random_errs = []\n",
    "uniform_errs = []\n",
    "\n",
    "for run in range(runs):\n",
    "    print('Run', run, '...')\n",
    "    X_train, X_test, y_train, y_test = train_test_split(\n",
    "        data['X'], data['y'], test_size=test_fraction)\n",
    "    \n",
    "    # Solving the optimization problem.\n",
    "    with Timer():\n",
    "        W = cp.Variable(768, 4)\n",
    "        B = cp.Variable(4, 4)\n",
    "\n",
    "        constraints = []\n",
    "        losses = 0\n",
    "        for index in range(len(X_train)):\n",
    "            element = X_train[index]\n",
    "            influence_matrix = y_train[index]['influence_matrix'] / 100\n",
    "            C = element['content_embedding_matrix']\n",
    "            pred_influence_matrix = C * W + B\n",
    "            loss = pred_influence_matrix - influence_matrix\n",
    "            losses += cp.sum_squares(loss)\n",
    "            constraints += [pred_influence_matrix >= 0]\n",
    "            constraints += [cp.sum_entries(pred_influence_matrix, axis=1) == 1]\n",
    "\n",
    "        regluarization = cp.norm1(W) + cp.norm1(B)\n",
    "\n",
    "        objective = cp.Minimize(losses + lambdaa * regluarization)\n",
    "        prob = cp.Problem(objective, constraints)\n",
    "        result = prob.solve(solver=cp.MOSEK)\n",
    "        print('It was {} and result was {}'.format(prob.status, result))\n",
    "\n",
    "    model_err = 0\n",
    "    random_err = 0\n",
    "    uniform_err = 0\n",
    "    for index in range(len(X_test)):\n",
    "        element = X_test[index]\n",
    "        influence_matrix = y_test[index]['influence_matrix'] / 100\n",
    "        \n",
    "        # Random model prediction:\n",
    "        pred_random_influence_matrix = np.matrix(utils.make_matrix_row_stochastic(\n",
    "            np.random.rand(4, 4)))\n",
    "        random_err += compute_matrix_err(\n",
    "            influence_matrix, pred_random_influence_matrix)\n",
    "        \n",
    "        # Uniform prediction:\n",
    "        pred_uniform_influence_matrix = np.matrix(np.ones((4, 4)) * 0.25)\n",
    "        uniform_err += compute_matrix_err(\n",
    "            influence_matrix, pred_uniform_influence_matrix)\n",
    "        \n",
    "        # Optimization model prediction:\n",
    "        C = element['content_embedding_matrix']\n",
    "        predicted_influence_matrix = C * W.value + B.value\n",
    "\n",
    "        model_err += compute_matrix_err(\n",
    "            influence_matrix, predicted_influence_matrix)\n",
    "    #     err += frob_norm_of_difference\n",
    "    model_err /= len(X_test)\n",
    "    random_err /= len(X_test)\n",
    "    uniform_err /= len(X_test)\n",
    "\n",
    "    model_errs.append(model_err)\n",
    "    random_errs.append(random_err)\n",
    "    uniform_errs.append(uniform_err)"
   ]
  },
  {
   "cell_type": "code",
   "execution_count": 67,
   "metadata": {},
   "outputs": [
    {
     "name": "stdout",
     "output_type": "stream",
     "text": [
      "random: 0.6344122315859531 +- 0.01840255448912705\n",
      "uniform: 0.3452197479415015 +- 0.01875661696853107\n",
      "model: 0.348088690284147 +- 0.015648935278394865\n"
     ]
    },
    {
     "data": {
      "image/png": "[encoded data removed]",
      "text/plain": [
       "<matplotlib.figure.Figure at 0x7f73086425c0>"
      ]
     },
     "metadata": {
      "needs_background": "light"
     },
     "output_type": "display_data"
    }
   ],
   "source": [
    "plt.hist(model_errs)\n",
    "# plt.hist(random_errs)\n",
    "plt.hist(uniform_errs)\n",
    "# plt.legend(['model', 'random', 'uniform']);\n",
    "plt.legend(['model', 'uniform'])\n",
    "\n",
    "print('random: {} +- {}'.format(np.mean(random_errs), np.std(random_errs)))\n",
    "print('uniform: {} +- {}'.format(np.mean(uniform_errs), np.std(uniform_errs)))\n",
    "print('model: {} +- {}'.format(np.mean(model_errs), np.std(model_errs)));"
   ]
  },
  {
   "cell_type": "code",
   "execution_count": null,
   "metadata": {},
   "outputs": [],
   "source": []
  }
 ],
 "metadata": {
  "kernelspec": {
   "display_name": "Python 3",
   "language": "python",
   "name": "python3"
  },
  "language_info": {
   "codemirror_mode": {
    "name": "ipython",
    "version": 3
   },
   "file_extension": ".py",
   "mimetype": "text/x-python",
   "name": "python",
   "nbconvert_exporter": "python",
   "pygments_lexer": "ipython3",
   "version": "3.5.2"
  }
 },
 "nbformat": 4,
 "nbformat_minor": 2
}
