{
 "cells": [
  {
   "cell_type": "code",
   "execution_count": 1,
   "metadata": {},
   "outputs": [],
   "source": [
    "import json"
   ]
  },
  {
   "cell_type": "code",
   "execution_count": 2,
   "metadata": {},
   "outputs": [],
   "source": [
    "with open('/home/omid/Datasets/Jeopardy/jeopardy45.json', 'r') as f:\n",
    "    game_questions = json.load(f)"
   ]
  },
  {
   "cell_type": "code",
   "execution_count": 13,
   "metadata": {},
   "outputs": [],
   "source": [
    "a = game_questions[0]"
   ]
  },
  {
   "cell_type": "code",
   "execution_count": 16,
   "metadata": {},
   "outputs": [],
   "source": [
    "from collections import namedtuple"
   ]
  },
  {
   "cell_type": "code",
   "execution_count": 19,
   "metadata": {},
   "outputs": [],
   "source": [
    "import pandas as pd"
   ]
  },
  {
   "cell_type": "code",
   "execution_count": 22,
   "metadata": {},
   "outputs": [
    {
     "ename": "ImportError",
     "evalue": "cannot import name 'auto'",
     "output_type": "error",
     "traceback": [
      "\u001b[0;31m---------------------------------------------------------------------------\u001b[0m",
      "\u001b[0;31mImportError\u001b[0m                               Traceback (most recent call last)",
      "\u001b[0;32m<ipython-input-22-546f0e7a3249>\u001b[0m in \u001b[0;36m<module>\u001b[0;34m()\u001b[0m\n\u001b[0;32m----> 1\u001b[0;31m \u001b[0;32mfrom\u001b[0m \u001b[0menum\u001b[0m \u001b[0;32mimport\u001b[0m \u001b[0mauto\u001b[0m\u001b[0;34m\u001b[0m\u001b[0m\n\u001b[0m",
      "\u001b[0;31mImportError\u001b[0m: cannot import name 'auto'"
     ]
    }
   ],
   "source": [
    "from enum import auto"
   ]
  },
  {
   "cell_type": "code",
   "execution_count": 23,
   "metadata": {},
   "outputs": [],
   "source": [
    "import enum"
   ]
  },
  {
   "cell_type": "code",
   "execution_count": 24,
   "metadata": {},
   "outputs": [
    {
     "ename": "AttributeError",
     "evalue": "module 'enum' has no attribute 'auto'",
     "output_type": "error",
     "traceback": [
      "\u001b[0;31m---------------------------------------------------------------------------\u001b[0m",
      "\u001b[0;31mAttributeError\u001b[0m                            Traceback (most recent call last)",
      "\u001b[0;32m<ipython-input-24-93f5e0cd1e5f>\u001b[0m in \u001b[0;36m<module>\u001b[0;34m()\u001b[0m\n\u001b[0;32m----> 1\u001b[0;31m \u001b[0menum\u001b[0m\u001b[0;34m.\u001b[0m\u001b[0mauto\u001b[0m\u001b[0;34m\u001b[0m\u001b[0m\n\u001b[0m",
      "\u001b[0;31mAttributeError\u001b[0m: module 'enum' has no attribute 'auto'"
     ]
    }
   ],
   "source": [
    "enum.auto"
   ]
  },
  {
   "cell_type": "code",
   "execution_count": 25,
   "metadata": {},
   "outputs": [],
   "source": [
    "class Category(Enum):\n",
    "    SCIENCE_AND_TECHNOLOGY = 1\n",
    "    HISTORY_AND_MYTHOLOGY = 2\n",
    "    LITERATURE_AND_MEDIA = 3"
   ]
  },
  {
   "cell_type": "code",
   "execution_count": 32,
   "metadata": {},
   "outputs": [],
   "source": [
    "from enum import Enum, unique\n",
    "from typing import Text"
   ]
  },
  {
   "cell_type": "code",
   "execution_count": 33,
   "metadata": {},
   "outputs": [],
   "source": [
    "@unique\n",
    "class Category(Enum):\n",
    "    SCIENCE_AND_TECHNOLOGY = 1\n",
    "    HISTORY_AND_MYTHOLOGY = 2\n",
    "    LITERATURE_AND_MEDIA = 3\n",
    "\n",
    "    @staticmethod\n",
    "    def parse(category_str: Text) -> Category:\n",
    "        str2category_map = {\n",
    "            'Science and Technology': Category.SCIENCE_AND_TECHNOLOGY,\n",
    "            'History and Mythology': Category.HISTORY_AND_MYTHOLOGY,\n",
    "            'Literature and Media': Category.LITERATURE_AND_MEDIA}\n",
    "        if category_str not in str2category_map:\n",
    "            raise ValueError(\n",
    "                'The input category is not found. It was entered: {}'.format(\n",
    "                    category_str))\n",
    "        return str2category_map[category_str]"
   ]
  },
  {
   "cell_type": "code",
   "execution_count": 37,
   "metadata": {},
   "outputs": [
    {
     "data": {
      "text/plain": [
       "<Category.LITERATURE_AND_MEDIA: 3>"
      ]
     },
     "execution_count": 37,
     "metadata": {},
     "output_type": "execute_result"
    }
   ],
   "source": [
    "Category.LITERATURE_AND_MEDIA"
   ]
  },
  {
   "cell_type": "code",
   "execution_count": 38,
   "metadata": {},
   "outputs": [
    {
     "ename": "ValueError",
     "evalue": "The input category is not found. It was entered: Historycx and Mythology",
     "output_type": "error",
     "traceback": [
      "\u001b[0;31m---------------------------------------------------------------------------\u001b[0m",
      "\u001b[0;31mValueError\u001b[0m                                Traceback (most recent call last)",
      "\u001b[0;32m<ipython-input-38-4146c5a1459d>\u001b[0m in \u001b[0;36m<module>\u001b[0;34m()\u001b[0m\n\u001b[0;32m----> 1\u001b[0;31m \u001b[0mCategory\u001b[0m\u001b[0;34m.\u001b[0m\u001b[0mparse\u001b[0m\u001b[0;34m(\u001b[0m\u001b[0;34m'Historycx and Mythology'\u001b[0m\u001b[0;34m)\u001b[0m\u001b[0;34m\u001b[0m\u001b[0m\n\u001b[0m",
      "\u001b[0;32m<ipython-input-33-b804327aa18d>\u001b[0m in \u001b[0;36mparse\u001b[0;34m(category_str)\u001b[0m\n\u001b[1;32m     14\u001b[0m             raise ValueError(\n\u001b[1;32m     15\u001b[0m                 'The input category is not found. It was entered: {}'.format(\n\u001b[0;32m---> 16\u001b[0;31m                     category_str))\n\u001b[0m\u001b[1;32m     17\u001b[0m         \u001b[0;32mreturn\u001b[0m \u001b[0mstr2category_map\u001b[0m\u001b[0;34m[\u001b[0m\u001b[0mcategory_str\u001b[0m\u001b[0;34m]\u001b[0m\u001b[0;34m\u001b[0m\u001b[0m\n",
      "\u001b[0;31mValueError\u001b[0m: The input category is not found. It was entered: Historycx and Mythology"
     ]
    }
   ],
   "source": [
    "Category.parse('Historycx and Mythology')"
   ]
  },
  {
   "cell_type": "code",
   "execution_count": 47,
   "metadata": {},
   "outputs": [
    {
     "data": {
      "text/plain": [
       "<enum 'Category'>"
      ]
     },
     "execution_count": 47,
     "metadata": {},
     "output_type": "execute_result"
    }
   ],
   "source": [
    "Category"
   ]
  },
  {
   "cell_type": "code",
   "execution_count": 58,
   "metadata": {},
   "outputs": [],
   "source": [
    "@attr.s\n",
    "class JeopardyQuestion(object):\n",
    "    \"\"\"Jeopardy-like question including category, choices, right answer, etc.\"\"\"\n",
    "    id = attr.ib(type=int)\n",
    "    question_content = attr.ib(type=str)\n",
    "    answer = attr.ib(type=str)\n",
    "    choices = attr.ib(factory=list)\n",
    "    category = attr.ib(default=Category.HISTORY_AND_MYTHOLOGY)"
   ]
  },
  {
   "cell_type": "code",
   "execution_count": 53,
   "metadata": {},
   "outputs": [
    {
     "data": {
      "text/plain": [
       "JeopardyQuestion(id='s', question_content='gg', answer='h', choices=[], category=<Category.HISTORY_AND_MYTHOLOGY: 2>)"
      ]
     },
     "execution_count": 53,
     "metadata": {},
     "output_type": "execute_result"
    }
   ],
   "source": [
    "JeopardyQuestion(category=Category.HISTORY_AND_MYTHOLOGY, id='s', question_content='gg', answer='h')"
   ]
  },
  {
   "cell_type": "code",
   "execution_count": null,
   "metadata": {},
   "outputs": [],
   "source": []
  }
 ],
 "metadata": {
  "kernelspec": {
   "display_name": "Python 3",
   "language": "python",
   "name": "python3"
  },
  "language_info": {
   "codemirror_mode": {
    "name": "ipython",
    "version": 3
   },
   "file_extension": ".py",
   "mimetype": "text/x-python",
   "name": "python",
   "nbconvert_exporter": "python",
   "pygments_lexer": "ipython3",
   "version": "3.5.2"
  }
 },
 "nbformat": 4,
 "nbformat_minor": 2
}
